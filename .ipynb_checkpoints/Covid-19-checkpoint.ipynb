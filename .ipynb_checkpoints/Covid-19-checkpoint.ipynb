{
 "cells": [
  {
   "cell_type": "markdown",
   "metadata": {},
   "source": [
    "# Microsoft ML.NET prediction using Time Series "
   ]
  },
  {
   "cell_type": "markdown",
   "metadata": {},
   "source": [
    "### Install packages"
   ]
  },
  {
   "cell_type": "code",
   "execution_count": 37,
   "metadata": {
    "scrolled": true
   },
   "outputs": [
    {
     "data": {
      "text/html": [
       "Installing package Octokit, version 0.32.0......"
      ]
     },
     "metadata": {},
     "output_type": "display_data"
    },
    {
     "data": {
      "text/html": [
       "Installing package NodaTime, version 2.4.6......"
      ]
     },
     "metadata": {},
     "output_type": "display_data"
    },
    {
     "data": {
      "text/html": [
       "Installing package Microsoft.ML.TimeSeries, version 1.5.0-preview2......"
      ]
     },
     "metadata": {},
     "output_type": "display_data"
    },
    {
     "data": {
      "text/html": [
       "Installing package Microsoft.ML, version 1.5.0-preview2......"
      ]
     },
     "metadata": {},
     "output_type": "display_data"
    }
   ],
   "source": [
    "#r \"nuget:Microsoft.ML,1.5.0-preview2\"\n",
    "#r \"nuget:Microsoft.ML.TimeSeries,1.5.0-preview2\"\n",
    "#r \"nuget:Octokit, 0.32.0\"\n",
    "#r \"nuget:NodaTime, 2.4.6\"\n",
    "using Octokit;\n",
    "using NodaTime;\n",
    "using NodaTime.Extensions;\n",
    "using XPlot.Plotly;\n",
    "using System;\n",
    "using System.Linq;\n",
    "using Microsoft.ML;\n",
    "using Microsoft.ML.Data;\n",
    "using Microsoft.ML.Transforms.TimeSeries;"
   ]
  },
  {
   "cell_type": "code",
   "execution_count": 38,
   "metadata": {},
   "outputs": [],
   "source": [
    "private const string DATA_FILEPATH_CN = \"./covid_19_China.csv\";\n",
    "private const string DATA_FILEPATH_IT = \"./covid_19_Italy.csv\";\n",
    "private const string DATA_FILEPATH_NL = \"./covid_19_Netherlands.csv\";\n",
    "private const string DATA_FILEPATH_US = \"./covid_19_USA.csv\";\n",
    "\n",
    "private static readonly MLContext mlContext = new MLContext();"
   ]
  },
  {
   "cell_type": "markdown",
   "metadata": {},
   "source": [
    "### Data models"
   ]
  },
  {
   "cell_type": "code",
   "execution_count": 39,
   "metadata": {},
   "outputs": [],
   "source": [
    "public class ModelInput\n",
    "{\n",
    "    [LoadColumn(0)]\n",
    "    public DateTime Date { get; set; }\n",
    "\n",
    "    [LoadColumn(1)]\n",
    "    public float Confirmed { get; set; }\n",
    "\n",
    "    [LoadColumn(2)]\n",
    "    public float Deaths { get; set; }\n",
    "\n",
    "    [LoadColumn(3)]\n",
    "    public float Recovered { get; set; }\n",
    "    \n",
    "    [LoadColumn(4)]\n",
    "    public float Features { get; set; }\n",
    "}\n",
    "\n",
    "public class ModelOutput\n",
    "{\n",
    "    public float[] Forecasted { get; set; }\n",
    "}"
   ]
  },
  {
   "cell_type": "markdown",
   "metadata": {},
   "source": [
    "### Load data views for China, Italy, Netherlands, USA"
   ]
  },
  {
   "cell_type": "code",
   "execution_count": 40,
   "metadata": {},
   "outputs": [],
   "source": [
    "IDataView dataCn = mlContext.Data.LoadFromTextFile<ModelInput>(\n",
    "    path: DATA_FILEPATH_CN,\n",
    "    hasHeader: true,\n",
    "    separatorChar: ',');\n",
    "\n",
    "IDataView dataIt = mlContext.Data.LoadFromTextFile<ModelInput>(\n",
    "    path: DATA_FILEPATH_IT,\n",
    "    hasHeader: true,\n",
    "    separatorChar: ',');\n",
    "\n",
    "IDataView dataNl = mlContext.Data.LoadFromTextFile<ModelInput>(\n",
    "    path: DATA_FILEPATH_NL,\n",
    "    hasHeader: true,\n",
    "    separatorChar: ',');\n",
    "\n",
    "IDataView dataUs = mlContext.Data.LoadFromTextFile<ModelInput>(\n",
    "    path: DATA_FILEPATH_US,\n",
    "    hasHeader: true,\n",
    "    separatorChar: ',');"
   ]
  },
  {
   "cell_type": "markdown",
   "metadata": {},
   "source": [
    "### active = [confirmed - death - recovered] data snapshots"
   ]
  },
  {
   "cell_type": "code",
   "execution_count": 41,
   "metadata": {},
   "outputs": [],
   "source": [
    "var activeCn = dataCn.Preview().RowView.Select(r => (float)r.Values[1].Value - (float)r.Values[2].Value - (float)r.Values[3].Value).ToList();\n",
    "var activeIt = dataIt.Preview().RowView.Select(r => (float)r.Values[1].Value - (float)r.Values[2].Value - (float)r.Values[3].Value).ToList();\n",
    "var activeNl = dataNl.Preview().RowView.Select(r => (float)r.Values[1].Value - (float)r.Values[2].Value - (float)r.Values[3].Value).ToList();\n",
    "var activeUs = dataUs.Preview().RowView.Select(r => (float)r.Values[1].Value - (float)r.Values[2].Value - (float)r.Values[3].Value).ToList();"
   ]
  },
  {
   "cell_type": "markdown",
   "metadata": {},
   "source": [
    "### datatime range snapshops"
   ]
  },
  {
   "cell_type": "code",
   "execution_count": 42,
   "metadata": {},
   "outputs": [],
   "source": [
    "var dataRangeCn = dataCn.Preview().RowView.Select(r => DateTime.Parse(r.Values[0].Value.ToString())).ToList();\n",
    "var dataRangeIt = dataIt.Preview().RowView.Select(r => DateTime.Parse(r.Values[0].Value.ToString())).ToList();\n",
    "var dataRangeNl = dataNl.Preview().RowView.Select(r => DateTime.Parse(r.Values[0].Value.ToString())).ToList();\n",
    "var dataRangeUs = dataUs.Preview().RowView.Select(r => DateTime.Parse(r.Values[0].Value.ToString())).ToList();"
   ]
  },
  {
   "cell_type": "markdown",
   "metadata": {},
   "source": [
    "### [confirmed] data snapshots"
   ]
  },
  {
   "cell_type": "code",
   "execution_count": 43,
   "metadata": {},
   "outputs": [],
   "source": [
    "var confirmedCn = dataCn.Preview().RowView.Select(r => (float)r.Values[1].Value).ToList();\n",
    "var confirmedIt = dataIt.Preview().RowView.Select(r => (float)r.Values[1].Value).ToList();\n",
    "var confirmedNl = dataNl.Preview().RowView.Select(r => (float)r.Values[1].Value).ToList();\n",
    "var confirmedUs = dataUs.Preview().RowView.Select(r => (float)r.Values[1].Value).ToList();"
   ]
  },
  {
   "cell_type": "markdown",
   "metadata": {},
   "source": [
    "### active = [confirmed - deaths - recovered] histogram"
   ]
  },
  {
   "cell_type": "code",
   "execution_count": 44,
   "metadata": {},
   "outputs": [],
   "source": [
    "var activeHistogram = Chart.Plot(new[] {\n",
    "    new Graph.Scatter { x = dataRangeCn, y = activeCn, name = \"China\" },\n",
    "    new Graph.Scatter { x = dataRangeIt, y = activeIt, name = \"Italy\" }, \n",
    "    new Graph.Scatter { x = dataRangeNl, y = activeNl, name = \"Netherlands\" }, \n",
    "    new Graph.Scatter { x = dataRangeUs, y = activeUs, name = \"USA\" }\n",
    "});"
   ]
  },
  {
   "cell_type": "markdown",
   "metadata": {},
   "source": [
    "### get the current day from datasets (presumably all datasets are up to date!)"
   ]
  },
  {
   "cell_type": "code",
   "execution_count": 45,
   "metadata": {},
   "outputs": [
    {
     "data": {
      "text/html": [
       "<div id=\"de337eb7-0226-419a-a33b-5de12ad7561f\" style=\"width: 900px; height: 500px;\"></div>\r\n",
       "<script type=\"text/javascript\">\r\n",
       "\r\n",
       "var renderPlotly = function() {\r\n",
       "    var xplotRequire = requirejs.config({context:'xplot-3.0.1',paths:{plotly:'https://cdn.plot.ly/plotly-1.49.2.min'}});\r\n",
       "    xplotRequire(['plotly'], function(Plotly) {\r\n",
       "\n",
       "            var data = [{\"type\":\"scatter\",\"x\":[\"2020-01-23T00:00:00\",\"2020-01-24T00:00:00\",\"2020-01-25T00:00:00\",\"2020-01-26T00:00:00\",\"2020-01-27T00:00:00\",\"2020-01-28T00:00:00\",\"2020-01-29T00:00:00\",\"2020-01-30T00:00:00\",\"2020-01-31T00:00:00\",\"2020-02-01T00:00:00\",\"2020-02-02T00:00:00\",\"2020-02-03T00:00:00\",\"2020-02-04T00:00:00\",\"2020-02-05T00:00:00\",\"2020-02-06T00:00:00\",\"2020-02-07T00:00:00\",\"2020-02-08T00:00:00\",\"2020-02-09T00:00:00\",\"2020-02-10T00:00:00\",\"2020-02-11T00:00:00\",\"2020-02-12T00:00:00\",\"2020-02-13T00:00:00\",\"2020-02-14T00:00:00\",\"2020-02-15T00:00:00\",\"2020-02-16T00:00:00\",\"2020-02-17T00:00:00\",\"2020-02-18T00:00:00\",\"2020-02-19T00:00:00\",\"2020-02-20T00:00:00\",\"2020-02-21T00:00:00\",\"2020-02-22T00:00:00\",\"2020-02-23T00:00:00\",\"2020-02-24T00:00:00\",\"2020-02-25T00:00:00\",\"2020-02-26T00:00:00\",\"2020-02-27T00:00:00\",\"2020-02-28T00:00:00\",\"2020-02-29T00:00:00\",\"2020-03-01T00:00:00\",\"2020-03-02T00:00:00\",\"2020-03-03T00:00:00\",\"2020-03-04T00:00:00\",\"2020-03-05T00:00:00\",\"2020-03-06T00:00:00\",\"2020-03-07T00:00:00\",\"2020-03-08T00:00:00\",\"2020-03-09T00:00:00\",\"2020-03-10T00:00:00\",\"2020-03-11T00:00:00\",\"2020-03-12T00:00:00\",\"2020-03-13T00:00:00\",\"2020-03-14T00:00:00\",\"2020-03-15T00:00:00\",\"2020-03-16T00:00:00\",\"2020-03-17T00:00:00\",\"2020-03-18T00:00:00\",\"2020-03-19T00:00:00\",\"2020-03-20T00:00:00\",\"2020-03-21T00:00:00\",\"2020-03-22T00:00:00\",\"2020-03-23T00:00:00\",\"2020-03-24T00:00:00\",\"2020-03-25T00:00:00\",\"2020-03-26T00:00:00\",\"2020-03-27T00:00:00\",\"2020-03-28T00:00:00\",\"2020-03-29T00:00:00\",\"2020-03-30T00:00:00\",\"2020-03-31T00:00:00\",\"2020-04-01T00:00:00\",\"2020-04-02T00:00:00\",\"2020-04-03T00:00:00\",\"2020-04-04T00:00:00\"],\"y\":[591.0,854.0,1874.0,2606.0,4243.0,5734.0,7381.0,9266.0,9356.0,13740.0,16275.0,19340.0,22910.0,22893.0,26249.0,28829.0,31968.0,35966.0,37378.0,38798.0,52524.0,55748.0,56855.0,57381.0,57901.0,57949.0,57761.0,56226.0,54883.0,53214.0,51577.0,49779.0,47636.0,45566.0,43210.0,39895.0,37404.0,35312.0,32612.0,30018.0,27421.0,25436.0,23796.0,22189.0,20658.0,19074.0,17730.0,16157.0,14844.0,14766.0,12095.0,10734.0,9898.0,8977.0,8056.0,7263.0,6570.0,6026.0,5549.0,5278.0,5309.0,4689.0,4238.0,3905.0,3946.0,3993.0,2650.0,2672.0,2707.0,1973.0,1971.0,1976.0,1513.0],\"name\":\"China\"},{\"type\":\"scatter\",\"x\":[\"2020-02-20T00:00:00\",\"2020-02-21T00:00:00\",\"2020-02-22T00:00:00\",\"2020-02-23T00:00:00\",\"2020-02-24T00:00:00\",\"2020-02-25T00:00:00\",\"2020-02-26T00:00:00\",\"2020-02-27T00:00:00\",\"2020-02-28T00:00:00\",\"2020-02-29T00:00:00\",\"2020-03-01T00:00:00\",\"2020-03-02T00:00:00\",\"2020-03-03T00:00:00\",\"2020-03-04T00:00:00\",\"2020-03-05T00:00:00\",\"2020-03-06T00:00:00\",\"2020-03-07T00:00:00\",\"2020-03-08T00:00:00\",\"2020-03-09T00:00:00\",\"2020-03-10T00:00:00\",\"2020-03-11T00:00:00\",\"2020-03-12T00:00:00\",\"2020-03-13T00:00:00\",\"2020-03-14T00:00:00\",\"2020-03-15T00:00:00\",\"2020-03-16T00:00:00\",\"2020-03-17T00:00:00\",\"2020-03-18T00:00:00\",\"2020-03-19T00:00:00\",\"2020-03-20T00:00:00\",\"2020-03-21T00:00:00\",\"2020-03-22T00:00:00\",\"2020-03-23T00:00:00\",\"2020-03-24T00:00:00\",\"2020-03-25T00:00:00\",\"2020-03-26T00:00:00\",\"2020-03-27T00:00:00\",\"2020-03-28T00:00:00\",\"2020-03-29T00:00:00\",\"2020-03-30T00:00:00\",\"2020-03-31T00:00:00\",\"2020-04-01T00:00:00\",\"2020-04-02T00:00:00\",\"2020-04-03T00:00:00\",\"2020-04-04T00:00:00\"],\"y\":[3.0,19.0,59.0,150.0,221.0,311.0,438.0,593.0,821.0,1053.0,1577.0,1835.0,2263.0,2706.0,3296.0,3916.0,5061.0,6387.0,7985.0,8794.0,10590.0,12839.0,14955.0,17750.0,20603.0,23073.0,26254.0,28530.0,33190.0,38729.0,42681.0,46638.0,50428.0,54030.0,57521.0,62013.0,66414.0,70065.0,73880.0,75528.0,77635.0,80572.0,83049.0,85388.0,88274.0],\"name\":\"Italy\"},{\"type\":\"scatter\",\"x\":[\"2020-02-27T00:00:00\",\"2020-02-28T00:00:00\",\"2020-02-29T00:00:00\",\"2020-03-01T00:00:00\",\"2020-03-02T00:00:00\",\"2020-03-03T00:00:00\",\"2020-03-04T00:00:00\",\"2020-03-05T00:00:00\",\"2020-03-06T00:00:00\",\"2020-03-07T00:00:00\",\"2020-03-08T00:00:00\",\"2020-03-09T00:00:00\",\"2020-03-10T00:00:00\",\"2020-03-11T00:00:00\",\"2020-03-12T00:00:00\",\"2020-03-13T00:00:00\",\"2020-03-14T00:00:00\",\"2020-03-15T00:00:00\",\"2020-03-16T00:00:00\",\"2020-03-17T00:00:00\",\"2020-03-18T00:00:00\",\"2020-03-19T00:00:00\",\"2020-03-20T00:00:00\",\"2020-03-21T00:00:00\",\"2020-03-22T00:00:00\",\"2020-03-23T00:00:00\",\"2020-03-24T00:00:00\",\"2020-03-25T00:00:00\",\"2020-03-26T00:00:00\",\"2020-03-27T00:00:00\",\"2020-03-28T00:00:00\",\"2020-03-29T00:00:00\",\"2020-03-30T00:00:00\",\"2020-03-31T00:00:00\",\"2020-04-01T00:00:00\",\"2020-04-02T00:00:00\",\"2020-04-03T00:00:00\",\"2020-04-04T00:00:00\"],\"y\":[1.0,1.0,6.0,10.0,18.0,24.0,38.0,82.0,127.0,187.0,262.0,318.0,378.0,498.0,498.0,794.0,945.0,1114.0,1388.0,1663.0,1995.0,2388.0,2894.0,3493.0,4034.0,4547.0,5300.0,6077.0,7018.0,8054.0,9120.0,10092.0,10636.0,11306.0,12191.0,13108.0,13986.0,14726.0],\"name\":\"Netherlands\"},{\"type\":\"scatter\",\"x\":[\"2020-01-22T00:00:00\",\"2020-01-23T00:00:00\",\"2020-01-24T00:00:00\",\"2020-01-25T00:00:00\",\"2020-01-26T00:00:00\",\"2020-01-27T00:00:00\",\"2020-01-28T00:00:00\",\"2020-01-29T00:00:00\",\"2020-01-30T00:00:00\",\"2020-01-31T00:00:00\",\"2020-02-01T00:00:00\",\"2020-02-02T00:00:00\",\"2020-02-03T00:00:00\",\"2020-02-04T00:00:00\",\"2020-02-05T00:00:00\",\"2020-02-06T00:00:00\",\"2020-02-07T00:00:00\",\"2020-02-08T00:00:00\",\"2020-02-09T00:00:00\",\"2020-02-10T00:00:00\",\"2020-02-11T00:00:00\",\"2020-02-12T00:00:00\",\"2020-02-13T00:00:00\",\"2020-02-14T00:00:00\",\"2020-02-15T00:00:00\",\"2020-02-16T00:00:00\",\"2020-02-17T00:00:00\",\"2020-02-18T00:00:00\",\"2020-02-19T00:00:00\",\"2020-02-20T00:00:00\",\"2020-02-21T00:00:00\",\"2020-02-22T00:00:00\",\"2020-02-23T00:00:00\",\"2020-02-24T00:00:00\",\"2020-02-25T00:00:00\",\"2020-02-26T00:00:00\",\"2020-02-27T00:00:00\",\"2020-02-28T00:00:00\",\"2020-02-29T00:00:00\",\"2020-03-01T00:00:00\",\"2020-03-02T00:00:00\",\"2020-03-03T00:00:00\",\"2020-03-04T00:00:00\",\"2020-03-05T00:00:00\",\"2020-03-06T00:00:00\",\"2020-03-07T00:00:00\",\"2020-03-08T00:00:00\",\"2020-03-09T00:00:00\",\"2020-03-10T00:00:00\",\"2020-03-11T00:00:00\",\"2020-03-12T00:00:00\",\"2020-03-13T00:00:00\",\"2020-03-14T00:00:00\",\"2020-03-15T00:00:00\",\"2020-03-16T00:00:00\",\"2020-03-17T00:00:00\",\"2020-03-18T00:00:00\",\"2020-03-19T00:00:00\",\"2020-03-20T00:00:00\",\"2020-03-21T00:00:00\",\"2020-03-22T00:00:00\",\"2020-03-23T00:00:00\",\"2020-03-24T00:00:00\",\"2020-03-25T00:00:00\",\"2020-03-26T00:00:00\",\"2020-03-27T00:00:00\",\"2020-03-28T00:00:00\",\"2020-03-29T00:00:00\",\"2020-03-30T00:00:00\",\"2020-03-31T00:00:00\",\"2020-04-01T00:00:00\",\"2020-04-02T00:00:00\",\"2020-04-03T00:00:00\",\"2020-04-04T00:00:00\"],\"y\":[1.0,1.0,2.0,2.0,5.0,5.0,5.0,5.0,6.0,7.0,8.0,9.0,11.0,11.0,11.0,12.0,12.0,12.0,11.0,10.0,9.0,10.0,10.0,10.0,10.0,10.0,10.0,10.0,10.0,10.0,11.0,11.0,11.0,11.0,10.0,11.0,11.0,19.0,18.0,32.0,44.0,62.0,93.0,166.0,298.0,404.0,537.0,723.0,975.0,1270.0,1715.0,2235.0,2980.0,3728.0,4628.0,6375.0,9249.0,14103.0,19344.0,26373.0,34576.0,45530.0,54080.0,67579.0,84026.0,102238.0,119891.0,135719.0,155545.0,178257.0,202942.0,230342.0,261429.0,284575.0],\"name\":\"USA\"}];\n",
       "            var layout = {\"title\":\"Active = [Confirmed - Deaths - Recovered] per day, up to 04 Apr 2020 \"};\n",
       "            Plotly.newPlot('de337eb7-0226-419a-a33b-5de12ad7561f', data, layout);\n",
       "        \r\n",
       "});\r\n",
       "};\r\n",
       "if ((typeof(requirejs) !==  typeof(Function)) || (typeof(requirejs.config) !== typeof(Function))) { \r\n",
       "    var script = document.createElement(\"script\"); \r\n",
       "    script.setAttribute(\"src\", \"https://cdnjs.cloudflare.com/ajax/libs/require.js/2.3.6/require.min.js\"); \r\n",
       "    script.onload = function(){\r\n",
       "        renderPlotly();\r\n",
       "    };\r\n",
       "    document.getElementsByTagName(\"head\")[0].appendChild(script); \r\n",
       "}\r\n",
       "else {\r\n",
       "    renderPlotly();\r\n",
       "}\r\n",
       "</script>\r\n"
      ]
     },
     "metadata": {},
     "output_type": "display_data"
    }
   ],
   "source": [
    "var currentDate = dataRangeCn.Last(); // China has the longest data range\n",
    "var day = currentDate.ToString(\"dd MMM yyyy\");\n",
    "\n",
    "var layout = new Layout.Layout { title = $\"Active = [Confirmed - Deaths - Recovered] per day, up to {day} \" };\n",
    "activeHistogram.WithLayout(layout);\n",
    "display(activeHistogram);"
   ]
  },
  {
   "cell_type": "markdown",
   "metadata": {},
   "source": [
    "### setup forecasting hyper-parameters"
   ]
  },
  {
   "cell_type": "code",
   "execution_count": 53,
   "metadata": {},
   "outputs": [],
   "source": [
    "var windowSize = 10; // seasonality (days), 1 week\n",
    "var horizon = 14; // days to predict, 2 weeks"
   ]
  },
  {
   "cell_type": "markdown",
   "metadata": {},
   "source": [
    "### create estimator and prediction engine and then predict some infections for USA"
   ]
  },
  {
   "cell_type": "code",
   "execution_count": 54,
   "metadata": {},
   "outputs": [],
   "source": [
    "var trainSize = activeUs.Count();\n",
    "var seriesLength = trainSize;\n",
    "\n",
    "IEstimator<ITransformer> estimatorUs = mlContext.Forecasting.ForecastBySsa(\n",
    "    outputColumnName: nameof(ModelOutput.Forecasted),\n",
    "    inputColumnName: nameof(ModelInput.Confirmed),\n",
    "    windowSize: windowSize,\n",
    "    seriesLength: seriesLength,\n",
    "    trainSize: trainSize,\n",
    "    horizon: horizon);\n",
    "\n",
    "ITransformer transformerUs = estimatorUs.Fit(dataUs);\n",
    "\n",
    "var engineUs = transformerUs.CreateTimeSeriesEngine<ModelInput, ModelOutput>(mlContext);\n",
    "var predictionUs = engineUs.Predict();\n",
    "var forecastedUs = predictionUs.Forecasted.Select(p => Math.Round(p));"
   ]
  },
  {
   "cell_type": "markdown",
   "metadata": {},
   "source": [
    "### create estimator and prediction engine and then predict some infections for Netherlands"
   ]
  },
  {
   "cell_type": "code",
   "execution_count": 55,
   "metadata": {},
   "outputs": [],
   "source": [
    "var trainSize = activeNl.Count();\n",
    "var seriesLength = trainSize;\n",
    "\n",
    "IEstimator<ITransformer> estimatorNl = mlContext.Forecasting.ForecastBySsa(\n",
    "    outputColumnName: nameof(ModelOutput.Forecasted),\n",
    "    inputColumnName: nameof(ModelInput.Confirmed),\n",
    "    windowSize: windowSize,\n",
    "    seriesLength: seriesLength,\n",
    "    trainSize: trainSize,\n",
    "    horizon: horizon);\n",
    "\n",
    "ITransformer transformerNl = estimatorNl.Fit(dataNl);\n",
    "\n",
    "var engineNl = transformerNl.CreateTimeSeriesEngine<ModelInput, ModelOutput>(mlContext);\n",
    "var predictionNl = engineNl.Predict();\n",
    "var forecastedNl = predictionNl.Forecasted.Select(p => Math.Round(p));"
   ]
  },
  {
   "cell_type": "markdown",
   "metadata": {},
   "source": [
    "### create estimator and prediction engine and then predict some infections for Italy"
   ]
  },
  {
   "cell_type": "code",
   "execution_count": 56,
   "metadata": {},
   "outputs": [],
   "source": [
    "var trainSize = activeIt.Count();\n",
    "var seriesLength = trainSize;\n",
    "\n",
    "IEstimator<ITransformer> estimatorIt = mlContext.Forecasting.ForecastBySsa(\n",
    "    outputColumnName: nameof(ModelOutput.Forecasted),\n",
    "    inputColumnName: nameof(ModelInput.Confirmed),\n",
    "    windowSize: windowSize,\n",
    "    seriesLength: seriesLength,\n",
    "    trainSize: trainSize,\n",
    "    horizon: horizon);\n",
    "\n",
    "ITransformer transformerIt = estimatorIt.Fit(dataIt);\n",
    "\n",
    "var engineIt = transformerIt.CreateTimeSeriesEngine<ModelInput, ModelOutput>(mlContext);\n",
    "var predictionIt = engineIt.Predict();\n",
    "var forecastedIt = predictionIt.Forecasted.Select(p => Math.Round(p));"
   ]
  },
  {
   "cell_type": "markdown",
   "metadata": {},
   "source": [
    "### create estimator and prediction engine and then predict some infections for China"
   ]
  },
  {
   "cell_type": "code",
   "execution_count": 57,
   "metadata": {},
   "outputs": [],
   "source": [
    "var trainSize = activeCn.Count();\n",
    "var seriesLength = trainSize;\n",
    "\n",
    "IEstimator<ITransformer> estimatorCn = mlContext.Forecasting.ForecastBySsa(\n",
    "    outputColumnName: nameof(ModelOutput.Forecasted),\n",
    "    inputColumnName: nameof(ModelInput.Confirmed),\n",
    "    windowSize: windowSize,\n",
    "    seriesLength: seriesLength,\n",
    "    trainSize: trainSize,\n",
    "    horizon: horizon);\n",
    "\n",
    "ITransformer transformerCn = estimatorCn.Fit(dataCn);\n",
    "\n",
    "var engineCn = transformerCn.CreateTimeSeriesEngine<ModelInput, ModelOutput>(mlContext);\n",
    "var predictionCn = engineCn.Predict();\n",
    "var forecastedCn = predictionCn.Forecasted.Select(p => Math.Round(p));"
   ]
  },
  {
   "cell_type": "markdown",
   "metadata": {},
   "source": [
    "### generate days range for prediction"
   ]
  },
  {
   "cell_type": "code",
   "execution_count": 58,
   "metadata": {},
   "outputs": [],
   "source": [
    "DateTime[] dateRangeAll = Enumerable.Range(1, horizon).Select(d => currentDate.AddDays(d)).ToArray();"
   ]
  },
  {
   "cell_type": "markdown",
   "metadata": {},
   "source": [
    "### generate histogram for past and predicted confirmed infections"
   ]
  },
  {
   "cell_type": "code",
   "execution_count": 59,
   "metadata": {},
   "outputs": [
    {
     "data": {
      "text/html": [
       "<div id=\"3d4016df-0902-42b4-b0b3-315e7814f793\" style=\"width: 900px; height: 500px;\"></div>\r\n",
       "<script type=\"text/javascript\">\r\n",
       "\r\n",
       "var renderPlotly = function() {\r\n",
       "    var xplotRequire = requirejs.config({context:'xplot-3.0.1',paths:{plotly:'https://cdn.plot.ly/plotly-1.49.2.min'}});\r\n",
       "    xplotRequire(['plotly'], function(Plotly) {\r\n",
       "\n",
       "            var data = [{\"type\":\"scatter\",\"x\":[\"2020-01-23T00:00:00\",\"2020-01-24T00:00:00\",\"2020-01-25T00:00:00\",\"2020-01-26T00:00:00\",\"2020-01-27T00:00:00\",\"2020-01-28T00:00:00\",\"2020-01-29T00:00:00\",\"2020-01-30T00:00:00\",\"2020-01-31T00:00:00\",\"2020-02-01T00:00:00\",\"2020-02-02T00:00:00\",\"2020-02-03T00:00:00\",\"2020-02-04T00:00:00\",\"2020-02-05T00:00:00\",\"2020-02-06T00:00:00\",\"2020-02-07T00:00:00\",\"2020-02-08T00:00:00\",\"2020-02-09T00:00:00\",\"2020-02-10T00:00:00\",\"2020-02-11T00:00:00\",\"2020-02-12T00:00:00\",\"2020-02-13T00:00:00\",\"2020-02-14T00:00:00\",\"2020-02-15T00:00:00\",\"2020-02-16T00:00:00\",\"2020-02-17T00:00:00\",\"2020-02-18T00:00:00\",\"2020-02-19T00:00:00\",\"2020-02-20T00:00:00\",\"2020-02-21T00:00:00\",\"2020-02-22T00:00:00\",\"2020-02-23T00:00:00\",\"2020-02-24T00:00:00\",\"2020-02-25T00:00:00\",\"2020-02-26T00:00:00\",\"2020-02-27T00:00:00\",\"2020-02-28T00:00:00\",\"2020-02-29T00:00:00\",\"2020-03-01T00:00:00\",\"2020-03-02T00:00:00\",\"2020-03-03T00:00:00\",\"2020-03-04T00:00:00\",\"2020-03-05T00:00:00\",\"2020-03-06T00:00:00\",\"2020-03-07T00:00:00\",\"2020-03-08T00:00:00\",\"2020-03-09T00:00:00\",\"2020-03-10T00:00:00\",\"2020-03-11T00:00:00\",\"2020-03-12T00:00:00\",\"2020-03-13T00:00:00\",\"2020-03-14T00:00:00\",\"2020-03-15T00:00:00\",\"2020-03-16T00:00:00\",\"2020-03-17T00:00:00\",\"2020-03-18T00:00:00\",\"2020-03-19T00:00:00\",\"2020-03-20T00:00:00\",\"2020-03-21T00:00:00\",\"2020-03-22T00:00:00\",\"2020-03-23T00:00:00\",\"2020-03-24T00:00:00\",\"2020-03-25T00:00:00\",\"2020-03-26T00:00:00\",\"2020-03-27T00:00:00\",\"2020-03-28T00:00:00\",\"2020-03-29T00:00:00\",\"2020-03-30T00:00:00\",\"2020-03-31T00:00:00\",\"2020-04-01T00:00:00\",\"2020-04-02T00:00:00\",\"2020-04-03T00:00:00\",\"2020-04-04T00:00:00\"],\"y\":[639.0,916.0,1979.0,2737.0,4409.0,5970.0,7678.0,9658.0,9783.0,14375.0,17114.0,20400.0,24290.0,24405.0,28165.0,31215.0,35051.0,40160.0,42310.0,44641.0,59805.0,63841.0,66482.0,68500.0,70550.0,72438.0,74185.0,74576.0,75465.0,76290.0,76936.0,77150.0,77658.0,78064.0,78487.0,78824.0,79250.0,79822.0,80026.0,80151.0,80267.0,80409.0,80552.0,80651.0,80695.0,80735.0,80754.0,80778.0,80793.0,80796.0,80824.0,80844.0,80860.0,80881.0,80894.0,80928.0,80968.0,81006.0,81054.0,81094.0,81134.0,81180.0,81227.0,81298.0,81345.0,81401.0,81455.0,81479.0,81535.0,81575.0,81590.0,81623.0,81638.0],\"name\":\"China\"},{\"type\":\"scatter\",\"x\":[\"2020-02-20T00:00:00\",\"2020-02-21T00:00:00\",\"2020-02-22T00:00:00\",\"2020-02-23T00:00:00\",\"2020-02-24T00:00:00\",\"2020-02-25T00:00:00\",\"2020-02-26T00:00:00\",\"2020-02-27T00:00:00\",\"2020-02-28T00:00:00\",\"2020-02-29T00:00:00\",\"2020-03-01T00:00:00\",\"2020-03-02T00:00:00\",\"2020-03-03T00:00:00\",\"2020-03-04T00:00:00\",\"2020-03-05T00:00:00\",\"2020-03-06T00:00:00\",\"2020-03-07T00:00:00\",\"2020-03-08T00:00:00\",\"2020-03-09T00:00:00\",\"2020-03-10T00:00:00\",\"2020-03-11T00:00:00\",\"2020-03-12T00:00:00\",\"2020-03-13T00:00:00\",\"2020-03-14T00:00:00\",\"2020-03-15T00:00:00\",\"2020-03-16T00:00:00\",\"2020-03-17T00:00:00\",\"2020-03-18T00:00:00\",\"2020-03-19T00:00:00\",\"2020-03-20T00:00:00\",\"2020-03-21T00:00:00\",\"2020-03-22T00:00:00\",\"2020-03-23T00:00:00\",\"2020-03-24T00:00:00\",\"2020-03-25T00:00:00\",\"2020-03-26T00:00:00\",\"2020-03-27T00:00:00\",\"2020-03-28T00:00:00\",\"2020-03-29T00:00:00\",\"2020-03-30T00:00:00\",\"2020-03-31T00:00:00\",\"2020-04-01T00:00:00\",\"2020-04-02T00:00:00\",\"2020-04-03T00:00:00\",\"2020-04-04T00:00:00\"],\"y\":[3.0,20.0,62.0,155.0,229.0,322.0,453.0,655.0,888.0,1128.0,1694.0,2036.0,2502.0,3089.0,3858.0,4636.0,5883.0,7375.0,9172.0,10149.0,12462.0,15113.0,17660.0,21157.0,24747.0,27980.0,31506.0,35713.0,41035.0,47201.0,53578.0,59138.0,63927.0,69176.0,74386.0,80589.0,86498.0,92472.0,97689.0,101739.0,105792.0,110574.0,115242.0,119827.0,124632.0],\"name\":\"Italy\"},{\"type\":\"scatter\",\"x\":[\"2020-02-27T00:00:00\",\"2020-02-28T00:00:00\",\"2020-02-29T00:00:00\",\"2020-03-01T00:00:00\",\"2020-03-02T00:00:00\",\"2020-03-03T00:00:00\",\"2020-03-04T00:00:00\",\"2020-03-05T00:00:00\",\"2020-03-06T00:00:00\",\"2020-03-07T00:00:00\",\"2020-03-08T00:00:00\",\"2020-03-09T00:00:00\",\"2020-03-10T00:00:00\",\"2020-03-11T00:00:00\",\"2020-03-12T00:00:00\",\"2020-03-13T00:00:00\",\"2020-03-14T00:00:00\",\"2020-03-15T00:00:00\",\"2020-03-16T00:00:00\",\"2020-03-17T00:00:00\",\"2020-03-18T00:00:00\",\"2020-03-19T00:00:00\",\"2020-03-20T00:00:00\",\"2020-03-21T00:00:00\",\"2020-03-22T00:00:00\",\"2020-03-23T00:00:00\",\"2020-03-24T00:00:00\",\"2020-03-25T00:00:00\",\"2020-03-26T00:00:00\",\"2020-03-27T00:00:00\",\"2020-03-28T00:00:00\",\"2020-03-29T00:00:00\",\"2020-03-30T00:00:00\",\"2020-03-31T00:00:00\",\"2020-04-01T00:00:00\",\"2020-04-02T00:00:00\",\"2020-04-03T00:00:00\",\"2020-04-04T00:00:00\"],\"y\":[1.0,1.0,6.0,10.0,18.0,24.0,38.0,82.0,128.0,188.0,265.0,321.0,382.0,503.0,503.0,804.0,959.0,1136.0,1414.0,1708.0,2056.0,2467.0,3003.0,3631.0,4216.0,4764.0,5580.0,6440.0,7459.0,8603.0,9762.0,10866.0,11750.0,12595.0,13614.0,14697.0,15723.0,16627.0],\"name\":\"Netherlands\"},{\"type\":\"scatter\",\"x\":[\"2020-01-22T00:00:00\",\"2020-01-23T00:00:00\",\"2020-01-24T00:00:00\",\"2020-01-25T00:00:00\",\"2020-01-26T00:00:00\",\"2020-01-27T00:00:00\",\"2020-01-28T00:00:00\",\"2020-01-29T00:00:00\",\"2020-01-30T00:00:00\",\"2020-01-31T00:00:00\",\"2020-02-01T00:00:00\",\"2020-02-02T00:00:00\",\"2020-02-03T00:00:00\",\"2020-02-04T00:00:00\",\"2020-02-05T00:00:00\",\"2020-02-06T00:00:00\",\"2020-02-07T00:00:00\",\"2020-02-08T00:00:00\",\"2020-02-09T00:00:00\",\"2020-02-10T00:00:00\",\"2020-02-11T00:00:00\",\"2020-02-12T00:00:00\",\"2020-02-13T00:00:00\",\"2020-02-14T00:00:00\",\"2020-02-15T00:00:00\",\"2020-02-16T00:00:00\",\"2020-02-17T00:00:00\",\"2020-02-18T00:00:00\",\"2020-02-19T00:00:00\",\"2020-02-20T00:00:00\",\"2020-02-21T00:00:00\",\"2020-02-22T00:00:00\",\"2020-02-23T00:00:00\",\"2020-02-24T00:00:00\",\"2020-02-25T00:00:00\",\"2020-02-26T00:00:00\",\"2020-02-27T00:00:00\",\"2020-02-28T00:00:00\",\"2020-02-29T00:00:00\",\"2020-03-01T00:00:00\",\"2020-03-02T00:00:00\",\"2020-03-03T00:00:00\",\"2020-03-04T00:00:00\",\"2020-03-05T00:00:00\",\"2020-03-06T00:00:00\",\"2020-03-07T00:00:00\",\"2020-03-08T00:00:00\",\"2020-03-09T00:00:00\",\"2020-03-10T00:00:00\",\"2020-03-11T00:00:00\",\"2020-03-12T00:00:00\",\"2020-03-13T00:00:00\",\"2020-03-14T00:00:00\",\"2020-03-15T00:00:00\",\"2020-03-16T00:00:00\",\"2020-03-17T00:00:00\",\"2020-03-18T00:00:00\",\"2020-03-19T00:00:00\",\"2020-03-20T00:00:00\",\"2020-03-21T00:00:00\",\"2020-03-22T00:00:00\",\"2020-03-23T00:00:00\",\"2020-03-24T00:00:00\",\"2020-03-25T00:00:00\",\"2020-03-26T00:00:00\",\"2020-03-27T00:00:00\",\"2020-03-28T00:00:00\",\"2020-03-29T00:00:00\",\"2020-03-30T00:00:00\",\"2020-03-31T00:00:00\",\"2020-04-01T00:00:00\",\"2020-04-02T00:00:00\",\"2020-04-03T00:00:00\",\"2020-04-04T00:00:00\"],\"y\":[1.0,1.0,2.0,2.0,5.0,5.0,5.0,5.0,6.0,7.0,8.0,9.0,11.0,11.0,11.0,12.0,12.0,12.0,12.0,12.0,13.0,14.0,14.0,14.0,14.0,14.0,14.0,14.0,14.0,14.0,16.0,16.0,16.0,16.0,16.0,17.0,17.0,21.0,25.0,40.0,56.0,77.0,110.0,184.0,321.0,431.0,567.0,757.0,1013.0,1316.0,1764.0,2293.0,3048.0,3805.0,4731.0,6507.0,9419.0,14332.0,19622.0,26895.0,35225.0,46451.0,55236.0,69222.0,86043.0,104848.0,124698.0,143101.0,164670.0,189800.0,216762.0,245636.0,278492.0,307504.0],\"name\":\"USA\"},{\"type\":\"scatter\",\"x\":[\"2020-04-05T00:00:00\",\"2020-04-06T00:00:00\",\"2020-04-07T00:00:00\",\"2020-04-08T00:00:00\",\"2020-04-09T00:00:00\",\"2020-04-10T00:00:00\",\"2020-04-11T00:00:00\",\"2020-04-12T00:00:00\",\"2020-04-13T00:00:00\",\"2020-04-14T00:00:00\",\"2020-04-15T00:00:00\",\"2020-04-16T00:00:00\",\"2020-04-17T00:00:00\",\"2020-04-18T00:00:00\"],\"y\":[81573.0,81503.0,81445.0,81434.0,81417.0,81381.0,81391.0,81432.0,81507.0,81561.0,81562.0,81558.0,81564.0,81553.0],\"name\":\"China (predicted)\"},{\"type\":\"scatter\",\"x\":[\"2020-04-05T00:00:00\",\"2020-04-06T00:00:00\",\"2020-04-07T00:00:00\",\"2020-04-08T00:00:00\",\"2020-04-09T00:00:00\",\"2020-04-10T00:00:00\",\"2020-04-11T00:00:00\",\"2020-04-12T00:00:00\",\"2020-04-13T00:00:00\",\"2020-04-14T00:00:00\",\"2020-04-15T00:00:00\",\"2020-04-16T00:00:00\",\"2020-04-17T00:00:00\",\"2020-04-18T00:00:00\"],\"y\":[128261.0,131361.0,134431.0,137812.0,141518.0,145300.0,148584.0,151053.0,153098.0,155133.0,157534.0,160307.0,163007.0,165101.0],\"name\":\"Italy (predicted)\"},{\"type\":\"scatter\",\"x\":[\"2020-04-05T00:00:00\",\"2020-04-06T00:00:00\",\"2020-04-07T00:00:00\",\"2020-04-08T00:00:00\",\"2020-04-09T00:00:00\",\"2020-04-10T00:00:00\",\"2020-04-11T00:00:00\",\"2020-04-12T00:00:00\",\"2020-04-13T00:00:00\",\"2020-04-14T00:00:00\",\"2020-04-15T00:00:00\",\"2020-04-16T00:00:00\",\"2020-04-17T00:00:00\",\"2020-04-18T00:00:00\"],\"y\":[17862.0,18829.0,19591.0,20591.0,21691.0,22655.0,23655.0,24737.0,25875.0,26671.0,27534.0,28675.0,29663.0,30575.0],\"name\":\"Netherlands (predicted)\"},{\"type\":\"scatter\",\"x\":[\"2020-04-05T00:00:00\",\"2020-04-06T00:00:00\",\"2020-04-07T00:00:00\",\"2020-04-08T00:00:00\",\"2020-04-09T00:00:00\",\"2020-04-10T00:00:00\",\"2020-04-11T00:00:00\",\"2020-04-12T00:00:00\",\"2020-04-13T00:00:00\",\"2020-04-14T00:00:00\",\"2020-04-15T00:00:00\",\"2020-04-16T00:00:00\",\"2020-04-17T00:00:00\",\"2020-04-18T00:00:00\"],\"y\":[341996.0,376968.0,412620.0,448899.0,485853.0,523410.0,561423.0,599866.0,638582.0,677599.0,716876.0,756345.0,795980.0,835763.0],\"name\":\"USA (predicted)\"}];\n",
       "            var layout = {\"title\":\"[Confirmed] infections per day (up to 04 Apr 2020) and predictions for 14 days\"};\n",
       "            Plotly.newPlot('3d4016df-0902-42b4-b0b3-315e7814f793', data, layout);\n",
       "        \r\n",
       "});\r\n",
       "};\r\n",
       "if ((typeof(requirejs) !==  typeof(Function)) || (typeof(requirejs.config) !== typeof(Function))) { \r\n",
       "    var script = document.createElement(\"script\"); \r\n",
       "    script.setAttribute(\"src\", \"https://cdnjs.cloudflare.com/ajax/libs/require.js/2.3.6/require.min.js\"); \r\n",
       "    script.onload = function(){\r\n",
       "        renderPlotly();\r\n",
       "    };\r\n",
       "    document.getElementsByTagName(\"head\")[0].appendChild(script); \r\n",
       "}\r\n",
       "else {\r\n",
       "    renderPlotly();\r\n",
       "}\r\n",
       "</script>\r\n"
      ]
     },
     "metadata": {},
     "output_type": "display_data"
    }
   ],
   "source": [
    "var predictedConfirmedHistogram = Chart.Plot(new[] { \n",
    "    new Graph.Scatter { x = dataRangeCn, y = confirmedCn, name = \"China\" },\n",
    "    new Graph.Scatter { x = dataRangeIt, y = confirmedIt, name = \"Italy\" }, \n",
    "    new Graph.Scatter { x = dataRangeNl, y = confirmedNl, name = \"Netherlands\" }, \n",
    "    new Graph.Scatter { x = dataRangeUs, y = confirmedUs, name = \"USA\"}, \n",
    "\n",
    "    new Graph.Scatter { x = dateRangeAll, y = forecastedCn, name = \"China (predicted)\" }, \n",
    "    new Graph.Scatter { x = dateRangeAll, y = forecastedIt, name = \"Italy (predicted)\" }, \n",
    "    new Graph.Scatter { x = dateRangeAll, y = forecastedNl, name = \"Netherlands (predicted)\" }, \n",
    "    new Graph.Scatter { x = dateRangeAll, y = forecastedUs, name = \"USA (predicted)\" } \n",
    "});\n",
    "\n",
    "var layout = new Layout.Layout(){title=$\"[Confirmed] infections per day (up to {day}) and predictions for {horizon} days\"};\n",
    "predictedConfirmedHistogram.WithLayout(layout);\n",
    "display(predictedConfirmedHistogram);"
   ]
  }
 ],
 "metadata": {
  "kernelspec": {
   "display_name": ".NET (C#)",
   "language": "C#",
   "name": ".net-csharp"
  },
  "language_info": {
   "file_extension": ".cs",
   "mimetype": "text/x-csharp",
   "name": "C#",
   "pygments_lexer": "csharp",
   "version": "8.0"
  }
 },
 "nbformat": 4,
 "nbformat_minor": 4
}
