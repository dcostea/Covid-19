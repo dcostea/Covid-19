{
 "cells": [
  {
   "cell_type": "code",
   "execution_count": 1,
   "metadata": {
    "scrolled": true
   },
   "outputs": [
    {
     "data": {
      "text/html": [
       "Installed package Microsoft.ML.TimeSeries version 1.5.0-preview2"
      ]
     },
     "metadata": {},
     "output_type": "display_data"
    },
    {
     "data": {
      "text/html": [
       "Installed package NodaTime version 2.4.6"
      ]
     },
     "metadata": {},
     "output_type": "display_data"
    },
    {
     "data": {
      "text/html": [
       "Installed package Microsoft.ML version 1.5.0-preview2"
      ]
     },
     "metadata": {},
     "output_type": "display_data"
    },
    {
     "data": {
      "text/html": [
       "Installed package Octokit version 0.32.0"
      ]
     },
     "metadata": {},
     "output_type": "display_data"
    }
   ],
   "source": [
    "#r \"nuget:Microsoft.ML,1.5.0-preview2\"\n",
    "#r \"nuget:Microsoft.ML.TimeSeries,1.5.0-preview2\"\n",
    "#r \"nuget:Octokit, 0.32.0\"\n",
    "#r \"nuget:NodaTime, 2.4.6\"\n",
    "using Octokit;\n",
    "using NodaTime;\n",
    "using NodaTime.Extensions;\n",
    "using XPlot.Plotly;\n",
    "using System;\n",
    "using System.Linq;\n",
    "using Microsoft.ML;\n",
    "using Microsoft.ML.Data;\n",
    "using Microsoft.ML.Transforms.TimeSeries;"
   ]
  },
  {
   "cell_type": "code",
   "execution_count": 5,
   "metadata": {},
   "outputs": [],
   "source": [
    "private const string DATA_FILEPATH = \"./covid_19_Romania.csv\";\n",
    "private static readonly MLContext mlContext = new MLContext();"
   ]
  },
  {
   "cell_type": "code",
   "execution_count": 6,
   "metadata": {},
   "outputs": [],
   "source": [
    "public class ModelInput\n",
    "{\n",
    "    [LoadColumn(0)]\n",
    "    public float Confirmed { get; set; }\n",
    "\n",
    "    [LoadColumn(1)]\n",
    "    public float Deaths { get; set; }\n",
    "\n",
    "    [LoadColumn(2)]\n",
    "    public float Recovered { get; set; }\n",
    "}\n",
    "\n",
    "public class ModelOutput\n",
    "{\n",
    "    public float[] Forecasted { get; set; }\n",
    "}"
   ]
  },
  {
   "cell_type": "code",
   "execution_count": 7,
   "metadata": {},
   "outputs": [],
   "source": [
    "IDataView data = mlContext.Data.LoadFromTextFile<ModelInput>(\n",
    "    path: DATA_FILEPATH,\n",
    "    hasHeader: true,\n",
    "    separatorChar: ',',\n",
    "    allowQuoting: true);"
   ]
  },
  {
   "cell_type": "code",
   "execution_count": 8,
   "metadata": {},
   "outputs": [
    {
     "data": {
      "text/html": [
       "<div id=\"5491aa35-fd01-452e-ac6d-469001a3b08c\" style=\"width: 900px; height: 500px;\"></div>\r\n",
       "<script type=\"text/javascript\">\r\n",
       "\r\n",
       "var renderPlotly = function() {\r\n",
       "    var xplotRequire = requirejs.config({context:'xplot-3.0.1',paths:{plotly:'https://cdn.plot.ly/plotly-1.49.2.min'}});\r\n",
       "    xplotRequire(['plotly'], function(Plotly) {\r\n",
       "\n",
       "            var data = [{\"type\":\"bar\",\"y\":[1.0,3.0,3.0,3.0,3.0,3.0,4.0,6.0,9.0,9.0,15.0,15.0,25.0,45.0,49.0,89.0,123.0,131.0]}];\n",
       "            var layout = {\"title\":\"Distribution of infections per day\"};\n",
       "            Plotly.newPlot('5491aa35-fd01-452e-ac6d-469001a3b08c', data, layout);\n",
       "        \r\n",
       "});\r\n",
       "};\r\n",
       "if ((typeof(requirejs) !==  typeof(Function)) || (typeof(requirejs.config) !== typeof(Function))) { \r\n",
       "    var script = document.createElement(\"script\"); \r\n",
       "    script.setAttribute(\"src\", \"https://cdnjs.cloudflare.com/ajax/libs/require.js/2.3.6/require.min.js\"); \r\n",
       "    script.onload = function(){\r\n",
       "        renderPlotly();\r\n",
       "    };\r\n",
       "    document.getElementsByTagName(\"head\")[0].appendChild(script); \r\n",
       "}\r\n",
       "else {\r\n",
       "    renderPlotly();\r\n",
       "}\r\n",
       "</script>\r\n"
      ]
     },
     "metadata": {},
     "output_type": "display_data"
    }
   ],
   "source": [
    "var dataToView = data.Preview().RowView.Select(r => (float)r.Values[0].Value).ToList();\n",
    "\n",
    "var infectionHistogram = Chart.Plot(new Graph.Bar(){y = dataToView});\n",
    "var layout = new Layout.Layout(){title=\"Distribution of infections per day\"};\n",
    "infectionHistogram.WithLayout(layout);\n",
    "display(infectionHistogram);"
   ]
  },
  {
   "cell_type": "code",
   "execution_count": 12,
   "metadata": {},
   "outputs": [],
   "source": [
    "var numSeriesDataPoints = 17;\n",
    "\n",
    "IEstimator<ITransformer> forecastEstimator = mlContext.Forecasting.ForecastBySsa(\n",
    "    outputColumnName: nameof(ModelOutput.Forecasted),\n",
    "    inputColumnName: nameof(ModelInput.Confirmed),\n",
    "    windowSize: 5,\n",
    "    seriesLength: 10,\n",
    "    trainSize: numSeriesDataPoints,\n",
    "    horizon: 14);\n",
    "\n",
    "ITransformer forecastTransformer = forecastEstimator.Fit(data);\n",
    "\n",
    "var forecastEngine = forecastTransformer.CreateTimeSeriesEngine<ModelInput, ModelOutput>(mlContext);\n",
    "var prediction = forecastEngine.Predict();"
   ]
  },
  {
   "cell_type": "code",
   "execution_count": 13,
   "metadata": {},
   "outputs": [],
   "source": [
    "int[] elements = Enumerable.Range(0, numSeriesDataPoints).ToArray();\n",
    "int[] predictedElements = Enumerable.Range(numSeriesDataPoints, numSeriesDataPoints + 10).ToArray();"
   ]
  },
  {
   "cell_type": "code",
   "execution_count": 14,
   "metadata": {},
   "outputs": [
    {
     "data": {
      "text/html": [
       "<div id=\"6bec4bf4-3102-4a06-883c-c804561b4662\" style=\"width: 900px; height: 500px;\"></div>\r\n",
       "<script type=\"text/javascript\">\r\n",
       "\r\n",
       "var renderPlotly = function() {\r\n",
       "    var xplotRequire = requirejs.config({context:'xplot-3.0.1',paths:{plotly:'https://cdn.plot.ly/plotly-1.49.2.min'}});\r\n",
       "    xplotRequire(['plotly'], function(Plotly) {\r\n",
       "\n",
       "            var data = [{\"type\":\"bar\",\"x\":[0,1,2,3,4,5,6,7,8,9,10,11,12,13,14,15,16],\"y\":[1.0,3.0,3.0,3.0,3.0,3.0,4.0,6.0,9.0,9.0,15.0,15.0,25.0,45.0,49.0,89.0,123.0,131.0]},{\"type\":\"bar\",\"x\":[17,18,19,20,21,22,23,24,25,26,27,28,29,30,31,32,33,34,35,36,37,38,39,40,41,42,43],\"y\":[127.807556,178.23773,192.13306,209.68542,256.82382,256.93027,291.8198,323.11353,322.9795,368.95142,379.88245,392.3482,436.09894,432.7578]}];\n",
       "            var layout = {\"title\":\"Distribution of infections per day\"};\n",
       "            Plotly.newPlot('6bec4bf4-3102-4a06-883c-c804561b4662', data, layout);\n",
       "        \r\n",
       "});\r\n",
       "};\r\n",
       "if ((typeof(requirejs) !==  typeof(Function)) || (typeof(requirejs.config) !== typeof(Function))) { \r\n",
       "    var script = document.createElement(\"script\"); \r\n",
       "    script.setAttribute(\"src\", \"https://cdnjs.cloudflare.com/ajax/libs/require.js/2.3.6/require.min.js\"); \r\n",
       "    script.onload = function(){\r\n",
       "        renderPlotly();\r\n",
       "    };\r\n",
       "    document.getElementsByTagName(\"head\")[0].appendChild(script); \r\n",
       "}\r\n",
       "else {\r\n",
       "    renderPlotly();\r\n",
       "}\r\n",
       "</script>\r\n"
      ]
     },
     "metadata": {},
     "output_type": "display_data"
    }
   ],
   "source": [
    "var predictedIinfectionHistogram = Chart.Plot(new[] { new Graph.Bar(){x = elements, y = dataToView}, new Graph.Bar(){x = predictedElements, y = prediction.Forecasted} });\n",
    "predictedIinfectionHistogram.WithLayout(layout);\n",
    "display(predictedIinfectionHistogram);\n"
   ]
  },
  {
   "cell_type": "code",
   "execution_count": null,
   "metadata": {},
   "outputs": [],
   "source": []
  }
 ],
 "metadata": {
  "kernelspec": {
   "display_name": ".NET (C#)",
   "language": "C#",
   "name": ".net-csharp"
  },
  "language_info": {
   "file_extension": ".cs",
   "mimetype": "text/x-csharp",
   "name": "C#",
   "pygments_lexer": "csharp",
   "version": "8.0"
  }
 },
 "nbformat": 4,
 "nbformat_minor": 4
}
