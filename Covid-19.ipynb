{
 "cells": [
  {
   "cell_type": "code",
   "execution_count": 124,
   "metadata": {
    "scrolled": true
   },
   "outputs": [
    {
     "data": {
      "text/html": [
       "Installing package Microsoft.ML.TimeSeries, version 1.5.0-preview2......"
      ]
     },
     "metadata": {},
     "output_type": "display_data"
    },
    {
     "data": {
      "text/html": [
       "Installing package Microsoft.ML, version 1.5.0-preview2......"
      ]
     },
     "metadata": {},
     "output_type": "display_data"
    },
    {
     "data": {
      "text/html": [
       "Installing package NodaTime, version 2.4.6......"
      ]
     },
     "metadata": {},
     "output_type": "display_data"
    },
    {
     "data": {
      "text/html": [
       "Installing package Octokit, version 0.32.0......"
      ]
     },
     "metadata": {},
     "output_type": "display_data"
    }
   ],
   "source": [
    "#r \"nuget:Microsoft.ML,1.5.0-preview2\"\n",
    "#r \"nuget:Microsoft.ML.TimeSeries,1.5.0-preview2\"\n",
    "#r \"nuget:Octokit, 0.32.0\"\n",
    "#r \"nuget:NodaTime, 2.4.6\"\n",
    "using Octokit;\n",
    "using NodaTime;\n",
    "using NodaTime.Extensions;\n",
    "using XPlot.Plotly;\n",
    "using System;\n",
    "using System.Linq;\n",
    "using Microsoft.ML;\n",
    "using Microsoft.ML.Data;\n",
    "using Microsoft.ML.Transforms.TimeSeries;"
   ]
  },
  {
   "cell_type": "code",
   "execution_count": 125,
   "metadata": {},
   "outputs": [],
   "source": [
    "private const string DATA_FILEPATH_CN_H = \"./covid_19_Hubei.csv\";\n",
    "private const string DATA_FILEPATH_NL = \"./covid_19_Netherlands.csv\";\n",
    "private const string DATA_FILEPATH_RO = \"./covid_19_Romania.csv\";\n",
    "private const string DATA_FILEPATH_IT = \"./covid_19_Italy.csv\";\n",
    "\n",
    "private static readonly MLContext mlContext = new MLContext();"
   ]
  },
  {
   "cell_type": "code",
   "execution_count": 126,
   "metadata": {},
   "outputs": [],
   "source": [
    "// data models\n",
    "\n",
    "public class ModelInput\n",
    "{\n",
    "    [LoadColumn(0)]\n",
    "    public DateTime Date { get; set; }\n",
    "\n",
    "    [LoadColumn(1)]\n",
    "    public float Confirmed { get; set; }\n",
    "\n",
    "    [LoadColumn(2)]\n",
    "    public float Deaths { get; set; }\n",
    "\n",
    "    [LoadColumn(3)]\n",
    "    public float Recovered { get; set; }\n",
    "}\n",
    "\n",
    "public class ModelOutput\n",
    "{\n",
    "    public float[] Forecasted { get; set; }\n",
    "}"
   ]
  },
  {
   "cell_type": "code",
   "execution_count": 127,
   "metadata": {},
   "outputs": [],
   "source": [
    "// data views\n",
    "\n",
    "IDataView dataRo = mlContext.Data.LoadFromTextFile<ModelInput>(\n",
    "    path: DATA_FILEPATH_RO,\n",
    "    hasHeader: true,\n",
    "    separatorChar: ',');\n",
    "\n",
    "IDataView dataNl = mlContext.Data.LoadFromTextFile<ModelInput>(\n",
    "    path: DATA_FILEPATH_NL,\n",
    "    hasHeader: true,\n",
    "    separatorChar: ',');\n",
    "\n",
    "IDataView dataIt = mlContext.Data.LoadFromTextFile<ModelInput>(\n",
    "    path: DATA_FILEPATH_IT,\n",
    "    hasHeader: true,\n",
    "    separatorChar: ',');\n",
    "\n",
    "IDataView dataCnH = mlContext.Data.LoadFromTextFile<ModelInput>(\n",
    "    path: DATA_FILEPATH_CN_H,\n",
    "    hasHeader: true,\n",
    "    separatorChar: ',');"
   ]
  },
  {
   "cell_type": "code",
   "execution_count": 128,
   "metadata": {},
   "outputs": [],
   "source": [
    "// infected and datetime range\n",
    "\n",
    "var xRo = dataRo.Preview().RowView.Select(r => (float)r.Values[1].Value).ToList();\n",
    "var xNl = dataNl.Preview().RowView.Select(r => (float)r.Values[1].Value).ToList();\n",
    "var xIt = dataIt.Preview().RowView.Select(r => (float)r.Values[1].Value).ToList();\n",
    "var xCnH = dataCnH.Preview().RowView.Select(r => (float)r.Values[1].Value).ToList();\n",
    "\n",
    "var yRo = dataRo.Preview().RowView.Select(r => DateTime.Parse(r.Values[0].Value.ToString())).ToList();\n",
    "var yNl = dataNl.Preview().RowView.Select(r => DateTime.Parse(r.Values[0].Value.ToString())).ToList();\n",
    "var yIt = dataIt.Preview().RowView.Select(r => DateTime.Parse(r.Values[0].Value.ToString())).ToList();\n",
    "var yCnH = dataCnH.Preview().RowView.Select(r => DateTime.Parse(r.Values[0].Value.ToString())).ToList();"
   ]
  },
  {
   "cell_type": "code",
   "execution_count": 129,
   "metadata": {},
   "outputs": [
    {
     "data": {
      "text/html": [
       "<div id=\"0fbe2c73-07ae-4ac3-9d7a-c65089fa8e62\" style=\"width: 900px; height: 500px;\"></div>\r\n",
       "<script type=\"text/javascript\">\r\n",
       "\r\n",
       "var renderPlotly = function() {\r\n",
       "    var xplotRequire = requirejs.config({context:'xplot-3.0.1',paths:{plotly:'https://cdn.plot.ly/plotly-1.49.2.min'}});\r\n",
       "    xplotRequire(['plotly'], function(Plotly) {\r\n",
       "\n",
       "            var data = [{\"type\":\"scatter\",\"x\":[\"2020-02-26T00:00:00\",\"2020-02-27T00:00:00\",\"2020-02-28T00:00:00\",\"2020-02-29T00:00:00\",\"2020-03-01T00:00:00\",\"2020-03-02T00:00:00\",\"2020-03-03T00:00:00\",\"2020-03-04T00:00:00\",\"2020-03-05T00:00:00\",\"2020-03-06T00:00:00\",\"2020-03-07T00:00:00\",\"2020-03-08T00:00:00\",\"2020-03-09T00:00:00\",\"2020-03-10T00:00:00\",\"2020-03-11T00:00:00\",\"2020-03-12T00:00:00\",\"2020-03-13T00:00:00\",\"2020-03-14T00:00:00\",\"2020-03-15T00:00:00\",\"2020-03-16T00:00:00\",\"2020-03-17T00:00:00\",\"2020-03-18T00:00:00\",\"2020-03-19T00:00:00\"],\"y\":[1.0,1.0,3.0,3.0,3.0,3.0,3.0,4.0,6.0,9.0,9.0,15.0,15.0,25.0,45.0,49.0,89.0,123.0,139.0,168.0,184.0,217.0,260.0],\"name\":\"Romania\"},{\"type\":\"scatter\",\"x\":[\"2020-02-27T00:00:00\",\"2020-02-28T00:00:00\",\"2020-02-29T00:00:00\",\"2020-03-01T00:00:00\",\"2020-03-02T00:00:00\",\"2020-03-03T00:00:00\",\"2020-03-04T00:00:00\",\"2020-03-05T00:00:00\",\"2020-03-06T00:00:00\",\"2020-03-07T00:00:00\",\"2020-03-08T00:00:00\",\"2020-03-09T00:00:00\",\"2020-03-10T00:00:00\",\"2020-03-11T00:00:00\",\"2020-03-12T00:00:00\",\"2020-03-13T00:00:00\",\"2020-03-14T00:00:00\",\"2020-03-15T00:00:00\",\"2020-03-16T00:00:00\",\"2020-03-17T00:00:00\",\"2020-03-18T00:00:00\",\"2020-03-19T00:00:00\",\"2020-03-20T00:00:00\"],\"y\":[1.0,1.0,6.0,10.0,18.0,24.0,38.0,82.0,128.0,188.0,265.0,321.0,382.0,503.0,503.0,804.0,959.0,1136.0,1414.0,1708.0,2056.0,2467.0,3003.0],\"name\":\"Netherlands\"},{\"type\":\"scatter\",\"x\":[\"2020-02-20T00:00:00\",\"2020-02-21T00:00:00\",\"2020-02-22T00:00:00\",\"2020-02-23T00:00:00\",\"2020-02-24T00:00:00\",\"2020-02-25T00:00:00\",\"2020-02-26T00:00:00\",\"2020-02-27T00:00:00\",\"2020-02-28T00:00:00\",\"2020-02-29T00:00:00\",\"2020-03-01T00:00:00\",\"2020-03-02T00:00:00\",\"2020-03-03T00:00:00\",\"2020-03-04T00:00:00\",\"2020-03-05T00:00:00\",\"2020-03-06T00:00:00\",\"2020-03-07T00:00:00\",\"2020-03-08T00:00:00\",\"2020-03-09T00:00:00\",\"2020-03-10T00:00:00\",\"2020-03-11T00:00:00\",\"2020-03-12T00:00:00\",\"2020-03-13T00:00:00\",\"2020-03-14T00:00:00\",\"2020-03-15T00:00:00\",\"2020-03-16T00:00:00\",\"2020-03-17T00:00:00\",\"2020-03-18T00:00:00\",\"2020-03-19T00:00:00\",\"2020-03-20T00:00:00\"],\"y\":[3.0,20.0,62.0,155.0,229.0,322.0,453.0,655.0,888.0,1128.0,1694.0,2036.0,2502.0,3089.0,3858.0,4636.0,5883.0,7375.0,9172.0,10149.0,12462.0,15113.0,17660.0,21157.0,24747.0,27980.0,31506.0,35713.0,41035.0,47201.0],\"name\":\"Italy\"},{\"type\":\"scatter\",\"x\":[\"2020-01-23T00:00:00\",\"2020-01-24T00:00:00\",\"2020-01-25T00:00:00\",\"2020-01-26T00:00:00\",\"2020-01-27T00:00:00\",\"2020-01-28T00:00:00\",\"2020-01-29T00:00:00\",\"2020-01-30T00:00:00\",\"2020-01-31T00:00:00\",\"2020-02-01T00:00:00\",\"2020-02-02T00:00:00\",\"2020-02-03T00:00:00\",\"2020-02-04T00:00:00\",\"2020-02-05T00:00:00\",\"2020-02-06T00:00:00\",\"2020-02-07T00:00:00\",\"2020-02-08T00:00:00\",\"2020-02-09T00:00:00\",\"2020-02-10T00:00:00\",\"2020-02-11T00:00:00\",\"2020-02-12T00:00:00\",\"2020-02-13T00:00:00\",\"2020-02-14T00:00:00\",\"2020-02-15T00:00:00\",\"2020-02-16T00:00:00\",\"2020-02-17T00:00:00\",\"2020-02-18T00:00:00\",\"2020-02-19T00:00:00\",\"2020-02-20T00:00:00\",\"2020-02-21T00:00:00\",\"2020-02-22T00:00:00\",\"2020-02-23T00:00:00\",\"2020-02-24T00:00:00\",\"2020-02-25T00:00:00\",\"2020-02-26T00:00:00\",\"2020-02-27T00:00:00\",\"2020-02-28T00:00:00\",\"2020-02-29T00:00:00\",\"2020-03-01T00:00:00\",\"2020-03-02T00:00:00\",\"2020-03-03T00:00:00\",\"2020-03-04T00:00:00\",\"2020-03-05T00:00:00\",\"2020-03-06T00:00:00\",\"2020-03-07T00:00:00\",\"2020-03-08T00:00:00\",\"2020-03-09T00:00:00\",\"2020-03-10T00:00:00\",\"2020-03-11T00:00:00\",\"2020-03-12T00:00:00\",\"2020-03-13T00:00:00\",\"2020-03-14T00:00:00\",\"2020-03-15T00:00:00\",\"2020-03-16T00:00:00\",\"2020-03-17T00:00:00\",\"2020-03-18T00:00:00\",\"2020-03-19T00:00:00\",\"2020-03-20T00:00:00\"],\"y\":[444.0,549.0,761.0,1058.0,1423.0,3554.0,3554.0,4903.0,5806.0,7153.0,11177.0,13522.0,16678.0,19665.0,22112.0,24953.0,27100.0,29631.0,31728.0,33366.0,33366.0,48206.0,54406.0,56249.0,58182.0,59989.0,61682.0,62031.0,62442.0,62662.0,64084.0,64084.0,64287.0,64786.0,65187.0,65596.0,65914.0,66337.0,66907.0,67103.0,67217.0,67332.0,67466.0,67592.0,67666.0,67707.0,67743.0,67760.0,67773.0,67781.0,67790.0,67794.0,67798.0,67799.0,67799.0,67800.0,67800.0,67800.0],\"name\":\"Hubei\"}];\n",
       "            var layout = {\"title\":\"Infections per day up to 19 March 2020 \"};\n",
       "            Plotly.newPlot('0fbe2c73-07ae-4ac3-9d7a-c65089fa8e62', data, layout);\n",
       "        \r\n",
       "});\r\n",
       "};\r\n",
       "if ((typeof(requirejs) !==  typeof(Function)) || (typeof(requirejs.config) !== typeof(Function))) { \r\n",
       "    var script = document.createElement(\"script\"); \r\n",
       "    script.setAttribute(\"src\", \"https://cdnjs.cloudflare.com/ajax/libs/require.js/2.3.6/require.min.js\"); \r\n",
       "    script.onload = function(){\r\n",
       "        renderPlotly();\r\n",
       "    };\r\n",
       "    document.getElementsByTagName(\"head\")[0].appendChild(script); \r\n",
       "}\r\n",
       "else {\r\n",
       "    renderPlotly();\r\n",
       "}\r\n",
       "</script>\r\n"
      ]
     },
     "metadata": {},
     "output_type": "display_data"
    }
   ],
   "source": [
    "// infected histogram\n",
    "\n",
    "var infectionHistogram = Chart.Plot(new[] {\n",
    "    new Graph.Scatter { x = yRo, y = xRo, name = \"Romania\" }, \n",
    "    new Graph.Scatter { x = yNl, y = xNl, name = \"Netherlands\" }, \n",
    "    new Graph.Scatter { x = yIt, y = xIt, name = \"Italy\" }, \n",
    "    new Graph.Scatter { x = yCnH, y = xCnH, name = \"Hubei\" }\n",
    "});\n",
    "\n",
    "var startDate = yRo.Last();\n",
    "var day = startDate.ToString(\"dd MMMM yyyy\");\n",
    "\n",
    "var layout = new Layout.Layout { title = $\"Infections per day up to {day} \" };\n",
    "infectionHistogram.WithLayout(layout);\n",
    "display(infectionHistogram);"
   ]
  },
  {
   "cell_type": "code",
   "execution_count": 115,
   "metadata": {},
   "outputs": [],
   "source": [
    "// number of days to predict\n",
    "\n",
    "var horizon = 28;"
   ]
  },
  {
   "cell_type": "code",
   "execution_count": 116,
   "metadata": {},
   "outputs": [],
   "source": [
    "// create estimator and prediction engine and them predict some infections for Romania\n",
    "\n",
    "var windowSize = xRo.Count() / 3;\n",
    "var trainSize = xRo.Count();\n",
    "\n",
    "IEstimator<ITransformer> estimatorRo = mlContext.Forecasting.ForecastBySsa(\n",
    "    outputColumnName: nameof(ModelOutput.Forecasted),\n",
    "    inputColumnName: nameof(ModelInput.Confirmed),\n",
    "    windowSize: windowSize,\n",
    "    seriesLength: windowSize + 1,\n",
    "    trainSize: trainSize,\n",
    "    horizon: horizon);\n",
    "\n",
    "ITransformer transformerRo = estimatorRo.Fit(dataRo);\n",
    "\n",
    "var engineRo = transformerRo.CreateTimeSeriesEngine<ModelInput, ModelOutput>(mlContext);\n",
    "var predictionRo = engineRo.Predict();\n",
    "var forecastedRo = predictionRo.Forecasted.Select(p => Math.Round(p));"
   ]
  },
  {
   "cell_type": "code",
   "execution_count": 117,
   "metadata": {},
   "outputs": [],
   "source": [
    "// create estimator and prediction engine and them predict some infections for Netherlands\n",
    "\n",
    "var windowSize = xNl.Count() / 3;\n",
    "var trainSize = xNl.Count();\n",
    "\n",
    "IEstimator<ITransformer> estimatorNl = mlContext.Forecasting.ForecastBySsa(\n",
    "    outputColumnName: nameof(ModelOutput.Forecasted),\n",
    "    inputColumnName: nameof(ModelInput.Confirmed),\n",
    "    windowSize: windowSize,\n",
    "    seriesLength: windowSize + 1,\n",
    "    trainSize: trainSize,\n",
    "    horizon: horizon);\n",
    "\n",
    "ITransformer transformerNl = estimatorNl.Fit(dataNl);\n",
    "\n",
    "var engineNl = transformerNl.CreateTimeSeriesEngine<ModelInput, ModelOutput>(mlContext);\n",
    "var predictionNl = engineNl.Predict();\n",
    "var forecastedNl = predictionNl.Forecasted.Select(p => Math.Round(p));"
   ]
  },
  {
   "cell_type": "code",
   "execution_count": 118,
   "metadata": {},
   "outputs": [],
   "source": [
    "// create estimator and prediction engine and them predict some infections for Italy\n",
    "\n",
    "var windowSize = xIt.Count() / 3;\n",
    "var trainSize = xIt.Count();\n",
    "\n",
    "IEstimator<ITransformer> estimatorIt = mlContext.Forecasting.ForecastBySsa(\n",
    "    outputColumnName: nameof(ModelOutput.Forecasted),\n",
    "    inputColumnName: nameof(ModelInput.Confirmed),\n",
    "    windowSize: windowSize,\n",
    "    seriesLength: windowSize + 1,\n",
    "    trainSize: trainSize,\n",
    "    horizon: horizon);\n",
    "\n",
    "ITransformer transformerIt = estimatorIt.Fit(dataIt);\n",
    "\n",
    "var engineIt = transformerIt.CreateTimeSeriesEngine<ModelInput, ModelOutput>(mlContext);\n",
    "var predictionIt = engineIt.Predict();\n",
    "var forecastedIt = predictionIt.Forecasted.Select(p => Math.Round(p));"
   ]
  },
  {
   "cell_type": "code",
   "execution_count": 119,
   "metadata": {},
   "outputs": [],
   "source": [
    "// create estimator and prediction engine and them predict some infections for China, Hubei\n",
    "\n",
    "var windowSize = xCnH.Count() / 3;\n",
    "var trainSize = xCnH.Count();\n",
    "\n",
    "IEstimator<ITransformer> estimatorCnH = mlContext.Forecasting.ForecastBySsa(\n",
    "    outputColumnName: nameof(ModelOutput.Forecasted),\n",
    "    inputColumnName: nameof(ModelInput.Confirmed),\n",
    "    windowSize: windowSize,\n",
    "    seriesLength: windowSize + 1,\n",
    "    trainSize: trainSize,\n",
    "    horizon: horizon);\n",
    "\n",
    "ITransformer transformerCnH = estimatorIt.Fit(dataCnH);\n",
    "\n",
    "var engineCnH = transformerCnH.CreateTimeSeriesEngine<ModelInput, ModelOutput>(mlContext);\n",
    "var predictionCnH = engineCnH.Predict();\n",
    "var forecastedCnH = predictionCnH.Forecasted.Select(p => Math.Round(p));"
   ]
  },
  {
   "cell_type": "code",
   "execution_count": 120,
   "metadata": {},
   "outputs": [],
   "source": [
    "// generate the days for prediction\n",
    "\n",
    "DateTime[] dateRange = Enumerable.Range(0, horizon).Select(d => startDate.AddDays(d)).ToArray();"
   ]
  },
  {
   "cell_type": "code",
   "execution_count": 121,
   "metadata": {},
   "outputs": [
    {
     "data": {
      "text/html": [
       "<div id=\"beb2a961-308f-4082-8bf2-8600d618c2e9\" style=\"width: 900px; height: 500px;\"></div>\r\n",
       "<script type=\"text/javascript\">\r\n",
       "\r\n",
       "var renderPlotly = function() {\r\n",
       "    var xplotRequire = requirejs.config({context:'xplot-3.0.1',paths:{plotly:'https://cdn.plot.ly/plotly-1.49.2.min'}});\r\n",
       "    xplotRequire(['plotly'], function(Plotly) {\r\n",
       "\n",
       "            var data = [{\"type\":\"scatter\",\"x\":[\"2020-02-26T00:00:00\",\"2020-02-27T00:00:00\",\"2020-02-28T00:00:00\",\"2020-02-29T00:00:00\",\"2020-03-01T00:00:00\",\"2020-03-02T00:00:00\",\"2020-03-03T00:00:00\",\"2020-03-04T00:00:00\",\"2020-03-05T00:00:00\",\"2020-03-06T00:00:00\",\"2020-03-07T00:00:00\",\"2020-03-08T00:00:00\",\"2020-03-09T00:00:00\",\"2020-03-10T00:00:00\",\"2020-03-11T00:00:00\",\"2020-03-12T00:00:00\",\"2020-03-13T00:00:00\",\"2020-03-14T00:00:00\",\"2020-03-15T00:00:00\",\"2020-03-16T00:00:00\",\"2020-03-17T00:00:00\",\"2020-03-18T00:00:00\",\"2020-03-19T00:00:00\",\"2020-03-20T00:00:00\"],\"y\":[1.0,1.0,3.0,3.0,3.0,3.0,3.0,4.0,6.0,9.0,9.0,15.0,15.0,25.0,45.0,49.0,89.0,123.0,139.0,168.0,184.0,217.0,260.0,308.0],\"name\":\"Romania (past)\"},{\"type\":\"scatter\",\"x\":[\"2020-02-27T00:00:00\",\"2020-02-28T00:00:00\",\"2020-02-29T00:00:00\",\"2020-03-01T00:00:00\",\"2020-03-02T00:00:00\",\"2020-03-03T00:00:00\",\"2020-03-04T00:00:00\",\"2020-03-05T00:00:00\",\"2020-03-06T00:00:00\",\"2020-03-07T00:00:00\",\"2020-03-08T00:00:00\",\"2020-03-09T00:00:00\",\"2020-03-10T00:00:00\",\"2020-03-11T00:00:00\",\"2020-03-12T00:00:00\",\"2020-03-13T00:00:00\",\"2020-03-14T00:00:00\",\"2020-03-15T00:00:00\",\"2020-03-16T00:00:00\",\"2020-03-17T00:00:00\",\"2020-03-18T00:00:00\",\"2020-03-19T00:00:00\",\"2020-03-20T00:00:00\"],\"y\":[1.0,1.0,6.0,10.0,18.0,24.0,38.0,82.0,128.0,188.0,265.0,321.0,382.0,503.0,503.0,804.0,959.0,1136.0,1414.0,1708.0,2056.0,2467.0,3003.0],\"name\":\"Netherlands (past)\"},{\"type\":\"scatter\",\"x\":[\"2020-02-20T00:00:00\",\"2020-02-21T00:00:00\",\"2020-02-22T00:00:00\",\"2020-02-23T00:00:00\",\"2020-02-24T00:00:00\",\"2020-02-25T00:00:00\",\"2020-02-26T00:00:00\",\"2020-02-27T00:00:00\",\"2020-02-28T00:00:00\",\"2020-02-29T00:00:00\",\"2020-03-01T00:00:00\",\"2020-03-02T00:00:00\",\"2020-03-03T00:00:00\",\"2020-03-04T00:00:00\",\"2020-03-05T00:00:00\",\"2020-03-06T00:00:00\",\"2020-03-07T00:00:00\",\"2020-03-08T00:00:00\",\"2020-03-09T00:00:00\",\"2020-03-10T00:00:00\",\"2020-03-11T00:00:00\",\"2020-03-12T00:00:00\",\"2020-03-13T00:00:00\",\"2020-03-14T00:00:00\",\"2020-03-15T00:00:00\",\"2020-03-16T00:00:00\",\"2020-03-17T00:00:00\",\"2020-03-18T00:00:00\",\"2020-03-19T00:00:00\",\"2020-03-20T00:00:00\"],\"y\":[3.0,20.0,62.0,155.0,229.0,322.0,453.0,655.0,888.0,1128.0,1694.0,2036.0,2502.0,3089.0,3858.0,4636.0,5883.0,7375.0,9172.0,10149.0,12462.0,15113.0,17660.0,21157.0,24747.0,27980.0,31506.0,35713.0,41035.0,47201.0],\"name\":\"Italy (past)\"},{\"type\":\"scatter\",\"x\":[\"2020-01-23T00:00:00\",\"2020-01-24T00:00:00\",\"2020-01-25T00:00:00\",\"2020-01-26T00:00:00\",\"2020-01-27T00:00:00\",\"2020-01-28T00:00:00\",\"2020-01-29T00:00:00\",\"2020-01-30T00:00:00\",\"2020-01-31T00:00:00\",\"2020-02-01T00:00:00\",\"2020-02-02T00:00:00\",\"2020-02-03T00:00:00\",\"2020-02-04T00:00:00\",\"2020-02-05T00:00:00\",\"2020-02-06T00:00:00\",\"2020-02-07T00:00:00\",\"2020-02-08T00:00:00\",\"2020-02-09T00:00:00\",\"2020-02-10T00:00:00\",\"2020-02-11T00:00:00\",\"2020-02-12T00:00:00\",\"2020-02-13T00:00:00\",\"2020-02-14T00:00:00\",\"2020-02-15T00:00:00\",\"2020-02-16T00:00:00\",\"2020-02-17T00:00:00\",\"2020-02-18T00:00:00\",\"2020-02-19T00:00:00\",\"2020-02-20T00:00:00\",\"2020-02-21T00:00:00\",\"2020-02-22T00:00:00\",\"2020-02-23T00:00:00\",\"2020-02-24T00:00:00\",\"2020-02-25T00:00:00\",\"2020-02-26T00:00:00\",\"2020-02-27T00:00:00\",\"2020-02-28T00:00:00\",\"2020-02-29T00:00:00\",\"2020-03-01T00:00:00\",\"2020-03-02T00:00:00\",\"2020-03-03T00:00:00\",\"2020-03-04T00:00:00\",\"2020-03-05T00:00:00\",\"2020-03-06T00:00:00\",\"2020-03-07T00:00:00\",\"2020-03-08T00:00:00\",\"2020-03-09T00:00:00\",\"2020-03-10T00:00:00\",\"2020-03-11T00:00:00\",\"2020-03-12T00:00:00\",\"2020-03-13T00:00:00\",\"2020-03-14T00:00:00\",\"2020-03-15T00:00:00\",\"2020-03-16T00:00:00\",\"2020-03-17T00:00:00\",\"2020-03-18T00:00:00\",\"2020-03-19T00:00:00\",\"2020-03-20T00:00:00\"],\"y\":[444.0,549.0,761.0,1058.0,1423.0,3554.0,3554.0,4903.0,5806.0,7153.0,11177.0,13522.0,16678.0,19665.0,22112.0,24953.0,27100.0,29631.0,31728.0,33366.0,33366.0,48206.0,54406.0,56249.0,58182.0,59989.0,61682.0,62031.0,62442.0,62662.0,64084.0,64084.0,64287.0,64786.0,65187.0,65596.0,65914.0,66337.0,66907.0,67103.0,67217.0,67332.0,67466.0,67592.0,67666.0,67707.0,67743.0,67760.0,67773.0,67781.0,67790.0,67794.0,67798.0,67799.0,67799.0,67800.0,67800.0,67800.0],\"name\":\"Hubei (past)\"},{\"type\":\"scatter\",\"x\":[\"2020-03-20T00:00:00\",\"2020-03-21T00:00:00\",\"2020-03-22T00:00:00\",\"2020-03-23T00:00:00\",\"2020-03-24T00:00:00\",\"2020-03-25T00:00:00\",\"2020-03-26T00:00:00\",\"2020-03-27T00:00:00\",\"2020-03-28T00:00:00\",\"2020-03-29T00:00:00\",\"2020-03-30T00:00:00\",\"2020-03-31T00:00:00\",\"2020-04-01T00:00:00\",\"2020-04-02T00:00:00\",\"2020-04-03T00:00:00\",\"2020-04-04T00:00:00\",\"2020-04-05T00:00:00\",\"2020-04-06T00:00:00\",\"2020-04-07T00:00:00\",\"2020-04-08T00:00:00\",\"2020-04-09T00:00:00\",\"2020-04-10T00:00:00\",\"2020-04-11T00:00:00\",\"2020-04-12T00:00:00\",\"2020-04-13T00:00:00\",\"2020-04-14T00:00:00\",\"2020-04-15T00:00:00\",\"2020-04-16T00:00:00\"],\"y\":[371.0,436.0,498.0,570.0,633.0,696.0,763.0,815.0,873.0,927.0,969.0,1018.0,1056.0,1090.0,1128.0,1151.0,1179.0,1205.0,1218.0,1241.0,1253.0,1262.0,1278.0,1280.0,1288.0,1295.0,1291.0,1297.0],\"name\":\"Romania (predicted)\"},{\"type\":\"scatter\",\"x\":[\"2020-03-20T00:00:00\",\"2020-03-21T00:00:00\",\"2020-03-22T00:00:00\",\"2020-03-23T00:00:00\",\"2020-03-24T00:00:00\",\"2020-03-25T00:00:00\",\"2020-03-26T00:00:00\",\"2020-03-27T00:00:00\",\"2020-03-28T00:00:00\",\"2020-03-29T00:00:00\",\"2020-03-30T00:00:00\",\"2020-03-31T00:00:00\",\"2020-04-01T00:00:00\",\"2020-04-02T00:00:00\",\"2020-04-03T00:00:00\",\"2020-04-04T00:00:00\",\"2020-04-05T00:00:00\",\"2020-04-06T00:00:00\",\"2020-04-07T00:00:00\",\"2020-04-08T00:00:00\",\"2020-04-09T00:00:00\",\"2020-04-10T00:00:00\",\"2020-04-11T00:00:00\",\"2020-04-12T00:00:00\",\"2020-04-13T00:00:00\",\"2020-04-14T00:00:00\",\"2020-04-15T00:00:00\",\"2020-04-16T00:00:00\"],\"y\":[3220.0,3609.0,3985.0,4340.0,4673.0,4987.0,5337.0,5652.0,5960.0,6265.0,6566.0,6862.0,7143.0,7424.0,7698.0,7965.0,8225.0,8480.0,8729.0,8972.0,9210.0,9441.0,9668.0,9888.0,10104.0,10314.0,10519.0,10718.0],\"name\":\"Netherlands (predicted)\"},{\"type\":\"scatter\",\"x\":[\"2020-03-20T00:00:00\",\"2020-03-21T00:00:00\",\"2020-03-22T00:00:00\",\"2020-03-23T00:00:00\",\"2020-03-24T00:00:00\",\"2020-03-25T00:00:00\",\"2020-03-26T00:00:00\",\"2020-03-27T00:00:00\",\"2020-03-28T00:00:00\",\"2020-03-29T00:00:00\",\"2020-03-30T00:00:00\",\"2020-03-31T00:00:00\",\"2020-04-01T00:00:00\",\"2020-04-02T00:00:00\",\"2020-04-03T00:00:00\",\"2020-04-04T00:00:00\",\"2020-04-05T00:00:00\",\"2020-04-06T00:00:00\",\"2020-04-07T00:00:00\",\"2020-04-08T00:00:00\",\"2020-04-09T00:00:00\",\"2020-04-10T00:00:00\",\"2020-04-11T00:00:00\",\"2020-04-12T00:00:00\",\"2020-04-13T00:00:00\",\"2020-04-14T00:00:00\",\"2020-04-15T00:00:00\",\"2020-04-16T00:00:00\"],\"y\":[47131.0,50814.0,56631.0,58583.0,63598.0,70372.0,72181.0,74903.0,78132.0,82995.0,88289.0,91173.0,96497.0,100696.0,100280.0,105786.0,112366.0,114769.0,119564.0,123728.0,125779.0,129245.0,133138.0,139776.0,144193.0,145141.0,150437.0,154074.0],\"name\":\"Italy (predicted)\"},{\"type\":\"scatter\",\"x\":[\"2020-03-20T00:00:00\",\"2020-03-21T00:00:00\",\"2020-03-22T00:00:00\",\"2020-03-23T00:00:00\",\"2020-03-24T00:00:00\",\"2020-03-25T00:00:00\",\"2020-03-26T00:00:00\",\"2020-03-27T00:00:00\",\"2020-03-28T00:00:00\",\"2020-03-29T00:00:00\",\"2020-03-30T00:00:00\",\"2020-03-31T00:00:00\",\"2020-04-01T00:00:00\",\"2020-04-02T00:00:00\",\"2020-04-03T00:00:00\",\"2020-04-04T00:00:00\",\"2020-04-05T00:00:00\",\"2020-04-06T00:00:00\",\"2020-04-07T00:00:00\",\"2020-04-08T00:00:00\",\"2020-04-09T00:00:00\",\"2020-04-10T00:00:00\",\"2020-04-11T00:00:00\",\"2020-04-12T00:00:00\",\"2020-04-13T00:00:00\",\"2020-04-14T00:00:00\",\"2020-04-15T00:00:00\",\"2020-04-16T00:00:00\"],\"y\":[66278.0,68145.0,70389.0,72209.0,73204.0,73678.0,74397.0,75868.0,78147.0,80496.0,82803.0,84344.0,85163.0,85725.0,86616.0,88207.0,90454.0,92915.0,95039.0,96429.0,97200.0,97810.0,98816.0,100534.0,102843.0,105261.0,107245.0,108517.0],\"name\":\"Hubei (predicted)\"}];\n",
       "            var layout = {\"title\":\"Prediction distribution of infections per day starting from 20 March 2020\"};\n",
       "            Plotly.newPlot('beb2a961-308f-4082-8bf2-8600d618c2e9', data, layout);\n",
       "        \r\n",
       "});\r\n",
       "};\r\n",
       "if ((typeof(requirejs) !==  typeof(Function)) || (typeof(requirejs.config) !== typeof(Function))) { \r\n",
       "    var script = document.createElement(\"script\"); \r\n",
       "    script.setAttribute(\"src\", \"https://cdnjs.cloudflare.com/ajax/libs/require.js/2.3.6/require.min.js\"); \r\n",
       "    script.onload = function(){\r\n",
       "        renderPlotly();\r\n",
       "    };\r\n",
       "    document.getElementsByTagName(\"head\")[0].appendChild(script); \r\n",
       "}\r\n",
       "else {\r\n",
       "    renderPlotly();\r\n",
       "}\r\n",
       "</script>\r\n"
      ]
     },
     "metadata": {},
     "output_type": "display_data"
    }
   ],
   "source": [
    "// generate histogram for past and predicted infections\n",
    "\n",
    "var predictedIinfectionHistogram = Chart.Plot(new[] { \n",
    "    new Graph.Scatter { x = yRo, y = xRo, name = \"Romania (past)\"}, \n",
    "    new Graph.Scatter { x = yNl, y = xNl, name = \"Netherlands (past)\" }, \n",
    "    new Graph.Scatter { x = yIt, y = xIt, name = \"Italy (past)\" }, \n",
    "    new Graph.Scatter { x = yCnH, y = xCnH, name = \"Hubei (past)\" },\n",
    "\n",
    "    new Graph.Scatter { x = dateRange, y = forecastedRo, name = \"Romania (predicted)\" }, \n",
    "    new Graph.Scatter { x = dateRange, y = forecastedNl, name = \"Netherlands (predicted)\" }, \n",
    "    new Graph.Scatter { x = dateRange, y = forecastedIt, name = \"Italy (predicted)\" }, \n",
    "    new Graph.Scatter { x = dateRange, y = forecastedCnH, name = \"Hubei (predicted)\" } \n",
    "});\n",
    "\n",
    "var layout = new Layout.Layout(){title=$\"Infections per day starting from {day}\"};\n",
    "predictedIinfectionHistogram.WithLayout(layout);\n",
    "display(predictedIinfectionHistogram);"
   ]
  }
 ],
 "metadata": {
  "kernelspec": {
   "display_name": ".NET (C#)",
   "language": "C#",
   "name": ".net-csharp"
  },
  "language_info": {
   "file_extension": ".cs",
   "mimetype": "text/x-csharp",
   "name": "C#",
   "pygments_lexer": "csharp",
   "version": "8.0"
  }
 },
 "nbformat": 4,
 "nbformat_minor": 4
}
