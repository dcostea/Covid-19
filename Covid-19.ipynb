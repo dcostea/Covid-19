{
 "cells": [
  {
   "cell_type": "code",
   "execution_count": 25,
   "metadata": {
    "scrolled": true
   },
   "outputs": [
    {
     "data": {
      "text/html": [
       "Installing package Microsoft.ML, version 1.5.0-preview2....."
      ]
     },
     "metadata": {},
     "output_type": "display_data"
    },
    {
     "data": {
      "text/html": [
       "Installing package NodaTime, version 2.4.6....."
      ]
     },
     "metadata": {},
     "output_type": "display_data"
    },
    {
     "data": {
      "text/html": [
       "Installing package Octokit, version 0.32.0....."
      ]
     },
     "metadata": {},
     "output_type": "display_data"
    },
    {
     "data": {
      "text/html": [
       "Installing package Microsoft.ML.TimeSeries, version 1.5.0-preview2....."
      ]
     },
     "metadata": {},
     "output_type": "display_data"
    }
   ],
   "source": [
    "#r \"nuget:Microsoft.ML,1.5.0-preview2\"\n",
    "#r \"nuget:Microsoft.ML.TimeSeries,1.5.0-preview2\"\n",
    "#r \"nuget:Octokit, 0.32.0\"\n",
    "#r \"nuget:NodaTime, 2.4.6\"\n",
    "using Octokit;\n",
    "using NodaTime;\n",
    "using NodaTime.Extensions;\n",
    "using XPlot.Plotly;\n",
    "using System;\n",
    "using System.Linq;\n",
    "using Microsoft.ML;\n",
    "using Microsoft.ML.Data;\n",
    "using Microsoft.ML.Transforms.TimeSeries;"
   ]
  },
  {
   "cell_type": "code",
   "execution_count": 86,
   "metadata": {},
   "outputs": [],
   "source": [
    "private const string DATA_FILEPATH = \"./covid_19_Hubei.csv\";\n",
    "private static readonly MLContext mlContext = new MLContext();"
   ]
  },
  {
   "cell_type": "code",
   "execution_count": 87,
   "metadata": {},
   "outputs": [],
   "source": [
    "public class ModelInput\n",
    "{\n",
    "    [LoadColumn(0)]\n",
    "    public float Confirmed { get; set; }\n",
    "\n",
    "    [LoadColumn(1)]\n",
    "    public float Deaths { get; set; }\n",
    "\n",
    "    [LoadColumn(2)]\n",
    "    public float Recovered { get; set; }\n",
    "}\n",
    "\n",
    "public class ModelOutput\n",
    "{\n",
    "    public float[] Forecasted { get; set; }\n",
    "}"
   ]
  },
  {
   "cell_type": "code",
   "execution_count": 88,
   "metadata": {},
   "outputs": [],
   "source": [
    "IDataView data = mlContext.Data.LoadFromTextFile<ModelInput>(\n",
    "    path: DATA_FILEPATH,\n",
    "    hasHeader: true,\n",
    "    separatorChar: ',',\n",
    "    allowQuoting: true);"
   ]
  },
  {
   "cell_type": "code",
   "execution_count": 89,
   "metadata": {},
   "outputs": [
    {
     "data": {
      "text/html": [
       "<div id=\"f431c77d-2232-443d-8d8a-f9436f8b5dc4\" style=\"width: 900px; height: 500px;\"></div>\r\n",
       "<script type=\"text/javascript\">\r\n",
       "\r\n",
       "var renderPlotly = function() {\r\n",
       "    var xplotRequire = requirejs.config({context:'xplot-3.0.1',paths:{plotly:'https://cdn.plot.ly/plotly-1.49.2.min'}});\r\n",
       "    xplotRequire(['plotly'], function(Plotly) {\r\n",
       "\n",
       "            var data = [{\"type\":\"bar\",\"y\":[444.0,549.0,761.0,1058.0,1423.0,3554.0,3554.0,4903.0,5806.0,7153.0,11177.0,13522.0,16678.0,19665.0,22112.0,24953.0,27100.0,29631.0,31728.0,33366.0,33366.0,48206.0,54406.0,56249.0,58182.0,59989.0,61682.0,62031.0,62442.0,62662.0,64084.0,64084.0,64287.0,64786.0,65187.0,65596.0,65914.0,66337.0,66907.0,67103.0,67217.0,67332.0,67466.0,67592.0,67666.0,67707.0,67743.0,67760.0,67773.0,67781.0]}];\n",
       "            var layout = {\"title\":\"Distribution of infections per day\"};\n",
       "            Plotly.newPlot('f431c77d-2232-443d-8d8a-f9436f8b5dc4', data, layout);\n",
       "        \r\n",
       "});\r\n",
       "};\r\n",
       "if ((typeof(requirejs) !==  typeof(Function)) || (typeof(requirejs.config) !== typeof(Function))) { \r\n",
       "    var script = document.createElement(\"script\"); \r\n",
       "    script.setAttribute(\"src\", \"https://cdnjs.cloudflare.com/ajax/libs/require.js/2.3.6/require.min.js\"); \r\n",
       "    script.onload = function(){\r\n",
       "        renderPlotly();\r\n",
       "    };\r\n",
       "    document.getElementsByTagName(\"head\")[0].appendChild(script); \r\n",
       "}\r\n",
       "else {\r\n",
       "    renderPlotly();\r\n",
       "}\r\n",
       "</script>\r\n"
      ]
     },
     "metadata": {},
     "output_type": "display_data"
    }
   ],
   "source": [
    "var dataToView = data.Preview().RowView.Select(r => (float)r.Values[0].Value).ToList();\n",
    "\n",
    "var infectionHistogram = Chart.Plot(new Graph.Bar(){y = dataToView});\n",
    "var layout = new Layout.Layout(){title=\"Distribution of infections per day\"};\n",
    "infectionHistogram.WithLayout(layout);\n",
    "display(infectionHistogram);"
   ]
  },
  {
   "cell_type": "code",
   "execution_count": 96,
   "metadata": {},
   "outputs": [],
   "source": [
    "var numSeriesDataPoints = 50;\n",
    "\n",
    "IEstimator<ITransformer> forecastEstimator = mlContext.Forecasting.ForecastBySsa(\n",
    "    outputColumnName: nameof(ModelOutput.Forecasted),\n",
    "    inputColumnName: nameof(ModelInput.Confirmed),\n",
    "    windowSize: 15,\n",
    "    seriesLength: 25,\n",
    "    trainSize: numSeriesDataPoints,\n",
    "    horizon: 14);\n",
    "\n",
    "ITransformer forecastTransformer = forecastEstimator.Fit(data);\n",
    "\n",
    "var forecastEngine = forecastTransformer.CreateTimeSeriesEngine<ModelInput, ModelOutput>(mlContext);\n",
    "var prediction = forecastEngine.Predict();"
   ]
  },
  {
   "cell_type": "code",
   "execution_count": 97,
   "metadata": {},
   "outputs": [],
   "source": [
    "int[] elements = Enumerable.Range(0, numSeriesDataPoints).ToArray();\n",
    "int[] predictedElements = Enumerable.Range(numSeriesDataPoints, numSeriesDataPoints + 10).ToArray();"
   ]
  },
  {
   "cell_type": "code",
   "execution_count": 98,
   "metadata": {},
   "outputs": [
    {
     "data": {
      "text/html": [
       "<div id=\"81f061e3-cf23-455c-aefa-274ba0107929\" style=\"width: 900px; height: 500px;\"></div>\r\n",
       "<script type=\"text/javascript\">\r\n",
       "\r\n",
       "var renderPlotly = function() {\r\n",
       "    var xplotRequire = requirejs.config({context:'xplot-3.0.1',paths:{plotly:'https://cdn.plot.ly/plotly-1.49.2.min'}});\r\n",
       "    xplotRequire(['plotly'], function(Plotly) {\r\n",
       "\n",
       "            var data = [{\"type\":\"bar\",\"x\":[0,1,2,3,4,5,6,7,8,9,10,11,12,13,14,15,16,17,18,19,20,21,22,23,24,25,26,27,28,29,30,31,32,33,34,35,36,37,38,39,40,41,42,43,44,45,46,47,48,49],\"y\":[444.0,549.0,761.0,1058.0,1423.0,3554.0,3554.0,4903.0,5806.0,7153.0,11177.0,13522.0,16678.0,19665.0,22112.0,24953.0,27100.0,29631.0,31728.0,33366.0,33366.0,48206.0,54406.0,56249.0,58182.0,59989.0,61682.0,62031.0,62442.0,62662.0,64084.0,64084.0,64287.0,64786.0,65187.0,65596.0,65914.0,66337.0,66907.0,67103.0,67217.0,67332.0,67466.0,67592.0,67666.0,67707.0,67743.0,67760.0,67773.0,67781.0]},{\"type\":\"bar\",\"x\":[50,51,52,53,54,55,56,57,58,59,60,61,62,63,64,65,66,67,68,69,70,71,72,73,74,75,76,77,78,79,80,81,82,83,84,85,86,87,88,89,90,91,92,93,94,95,96,97,98,99,100,101,102,103,104,105,106,107,108,109],\"y\":[66956.45,66235.91,65360.11,64358.17,63254.707,62070.03,60817.77,59509.195,58152.633,56747.957,55284.414,53747.3,52119.28,50392.28]}];\n",
       "            var layout = {\"title\":\"Distribution of infections per day\"};\n",
       "            Plotly.newPlot('81f061e3-cf23-455c-aefa-274ba0107929', data, layout);\n",
       "        \r\n",
       "});\r\n",
       "};\r\n",
       "if ((typeof(requirejs) !==  typeof(Function)) || (typeof(requirejs.config) !== typeof(Function))) { \r\n",
       "    var script = document.createElement(\"script\"); \r\n",
       "    script.setAttribute(\"src\", \"https://cdnjs.cloudflare.com/ajax/libs/require.js/2.3.6/require.min.js\"); \r\n",
       "    script.onload = function(){\r\n",
       "        renderPlotly();\r\n",
       "    };\r\n",
       "    document.getElementsByTagName(\"head\")[0].appendChild(script); \r\n",
       "}\r\n",
       "else {\r\n",
       "    renderPlotly();\r\n",
       "}\r\n",
       "</script>\r\n"
      ]
     },
     "metadata": {},
     "output_type": "display_data"
    }
   ],
   "source": [
    "var predictedIinfectionHistogram = Chart.Plot(new[] { new Graph.Bar(){x = elements, y = dataToView}, new Graph.Bar(){x = predictedElements, y = prediction.Forecasted} });\n",
    "predictedIinfectionHistogram.WithLayout(layout);\n",
    "display(predictedIinfectionHistogram);\n"
   ]
  },
  {
   "cell_type": "code",
   "execution_count": null,
   "metadata": {},
   "outputs": [],
   "source": []
  }
 ],
 "metadata": {
  "kernelspec": {
   "display_name": ".NET (C#)",
   "language": "C#",
   "name": ".net-csharp"
  },
  "language_info": {
   "file_extension": ".cs",
   "mimetype": "text/x-csharp",
   "name": "C#",
   "pygments_lexer": "csharp",
   "version": "8.0"
  }
 },
 "nbformat": 4,
 "nbformat_minor": 4
}
